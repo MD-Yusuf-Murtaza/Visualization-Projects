{
 "cells": [
  {
   "cell_type": "code",
   "execution_count": 1,
   "metadata": {},
   "outputs": [
    {
     "name": "stdout",
     "output_type": "stream",
     "text": [
      "Bismillah\n"
     ]
    }
   ],
   "source": [
    "print(\"Bismillah\")"
   ]
  },
  {
   "cell_type": "markdown",
   "metadata": {},
   "source": [
    "# About the dataset"
   ]
  },
  {
   "cell_type": "markdown",
   "metadata": {},
   "source": [
    "The datase is about the rainfall trends across the India which contains the rainfall data for India from 1901 to 2015. Each record provides monthly, seasonal, and annual rainfall measurements."
   ]
  },
  {
   "cell_type": "markdown",
   "metadata": {},
   "source": [
    "Import the necessary libararies"
   ]
  },
  {
   "cell_type": "code",
   "execution_count": 3,
   "metadata": {},
   "outputs": [],
   "source": [
    "import numpy as np\n",
    "import pandas as pd\n",
    "import matplotlib.pyplot as plt"
   ]
  },
  {
   "cell_type": "markdown",
   "metadata": {},
   "source": [
    "Load the data"
   ]
  },
  {
   "cell_type": "code",
   "execution_count": 4,
   "metadata": {},
   "outputs": [
    {
     "data": {
      "text/html": [
       "<div>\n",
       "<style scoped>\n",
       "    .dataframe tbody tr th:only-of-type {\n",
       "        vertical-align: middle;\n",
       "    }\n",
       "\n",
       "    .dataframe tbody tr th {\n",
       "        vertical-align: top;\n",
       "    }\n",
       "\n",
       "    .dataframe thead th {\n",
       "        text-align: right;\n",
       "    }\n",
       "</style>\n",
       "<table border=\"1\" class=\"dataframe\">\n",
       "  <thead>\n",
       "    <tr style=\"text-align: right;\">\n",
       "      <th></th>\n",
       "      <th>REGION</th>\n",
       "      <th>YEAR</th>\n",
       "      <th>JAN</th>\n",
       "      <th>FEB</th>\n",
       "      <th>MAR</th>\n",
       "      <th>APR</th>\n",
       "      <th>MAY</th>\n",
       "      <th>JUN</th>\n",
       "      <th>JUL</th>\n",
       "      <th>AUG</th>\n",
       "      <th>SEP</th>\n",
       "      <th>OCT</th>\n",
       "      <th>NOV</th>\n",
       "      <th>DEC</th>\n",
       "      <th>ANNUAL</th>\n",
       "      <th>Jan-Feb</th>\n",
       "      <th>Mar-May</th>\n",
       "      <th>Jun-Sep</th>\n",
       "      <th>Oct-Dec</th>\n",
       "    </tr>\n",
       "  </thead>\n",
       "  <tbody>\n",
       "    <tr>\n",
       "      <th>0</th>\n",
       "      <td>INDIA</td>\n",
       "      <td>1901</td>\n",
       "      <td>34.7</td>\n",
       "      <td>37.7</td>\n",
       "      <td>18.0</td>\n",
       "      <td>39.3</td>\n",
       "      <td>50.8</td>\n",
       "      <td>113.4</td>\n",
       "      <td>242.2</td>\n",
       "      <td>272.9</td>\n",
       "      <td>124.4</td>\n",
       "      <td>52.7</td>\n",
       "      <td>38.0</td>\n",
       "      <td>8.3</td>\n",
       "      <td>1032.3</td>\n",
       "      <td>72.4</td>\n",
       "      <td>108.1</td>\n",
       "      <td>752.8</td>\n",
       "      <td>99.0</td>\n",
       "    </tr>\n",
       "    <tr>\n",
       "      <th>1</th>\n",
       "      <td>INDIA</td>\n",
       "      <td>1902</td>\n",
       "      <td>7.4</td>\n",
       "      <td>4.3</td>\n",
       "      <td>19.0</td>\n",
       "      <td>43.5</td>\n",
       "      <td>48.3</td>\n",
       "      <td>108.8</td>\n",
       "      <td>284.0</td>\n",
       "      <td>199.7</td>\n",
       "      <td>201.5</td>\n",
       "      <td>61.5</td>\n",
       "      <td>27.9</td>\n",
       "      <td>24.4</td>\n",
       "      <td>1030.2</td>\n",
       "      <td>11.7</td>\n",
       "      <td>110.8</td>\n",
       "      <td>794.0</td>\n",
       "      <td>113.8</td>\n",
       "    </tr>\n",
       "    <tr>\n",
       "      <th>2</th>\n",
       "      <td>INDIA</td>\n",
       "      <td>1903</td>\n",
       "      <td>17.0</td>\n",
       "      <td>8.3</td>\n",
       "      <td>31.3</td>\n",
       "      <td>17.1</td>\n",
       "      <td>59.5</td>\n",
       "      <td>118.3</td>\n",
       "      <td>297.0</td>\n",
       "      <td>270.4</td>\n",
       "      <td>199.1</td>\n",
       "      <td>117.9</td>\n",
       "      <td>36.9</td>\n",
       "      <td>17.7</td>\n",
       "      <td>1190.5</td>\n",
       "      <td>25.3</td>\n",
       "      <td>107.9</td>\n",
       "      <td>884.8</td>\n",
       "      <td>172.5</td>\n",
       "    </tr>\n",
       "    <tr>\n",
       "      <th>3</th>\n",
       "      <td>INDIA</td>\n",
       "      <td>1904</td>\n",
       "      <td>14.4</td>\n",
       "      <td>9.6</td>\n",
       "      <td>31.8</td>\n",
       "      <td>33.1</td>\n",
       "      <td>72.4</td>\n",
       "      <td>164.8</td>\n",
       "      <td>261.0</td>\n",
       "      <td>206.4</td>\n",
       "      <td>129.6</td>\n",
       "      <td>69.0</td>\n",
       "      <td>11.2</td>\n",
       "      <td>16.3</td>\n",
       "      <td>1019.8</td>\n",
       "      <td>24.0</td>\n",
       "      <td>137.4</td>\n",
       "      <td>761.8</td>\n",
       "      <td>96.6</td>\n",
       "    </tr>\n",
       "    <tr>\n",
       "      <th>4</th>\n",
       "      <td>INDIA</td>\n",
       "      <td>1905</td>\n",
       "      <td>25.3</td>\n",
       "      <td>20.9</td>\n",
       "      <td>42.7</td>\n",
       "      <td>33.7</td>\n",
       "      <td>55.7</td>\n",
       "      <td>93.3</td>\n",
       "      <td>252.8</td>\n",
       "      <td>200.8</td>\n",
       "      <td>178.4</td>\n",
       "      <td>51.4</td>\n",
       "      <td>9.7</td>\n",
       "      <td>10.5</td>\n",
       "      <td>975.3</td>\n",
       "      <td>46.2</td>\n",
       "      <td>132.2</td>\n",
       "      <td>725.4</td>\n",
       "      <td>71.6</td>\n",
       "    </tr>\n",
       "  </tbody>\n",
       "</table>\n",
       "</div>"
      ],
      "text/plain": [
       "  REGION  YEAR   JAN   FEB   MAR   APR   MAY    JUN    JUL    AUG    SEP  \\\n",
       "0  INDIA  1901  34.7  37.7  18.0  39.3  50.8  113.4  242.2  272.9  124.4   \n",
       "1  INDIA  1902   7.4   4.3  19.0  43.5  48.3  108.8  284.0  199.7  201.5   \n",
       "2  INDIA  1903  17.0   8.3  31.3  17.1  59.5  118.3  297.0  270.4  199.1   \n",
       "3  INDIA  1904  14.4   9.6  31.8  33.1  72.4  164.8  261.0  206.4  129.6   \n",
       "4  INDIA  1905  25.3  20.9  42.7  33.7  55.7   93.3  252.8  200.8  178.4   \n",
       "\n",
       "     OCT   NOV   DEC  ANNUAL  Jan-Feb  Mar-May  Jun-Sep  Oct-Dec  \n",
       "0   52.7  38.0   8.3  1032.3     72.4    108.1    752.8     99.0  \n",
       "1   61.5  27.9  24.4  1030.2     11.7    110.8    794.0    113.8  \n",
       "2  117.9  36.9  17.7  1190.5     25.3    107.9    884.8    172.5  \n",
       "3   69.0  11.2  16.3  1019.8     24.0    137.4    761.8     96.6  \n",
       "4   51.4   9.7  10.5   975.3     46.2    132.2    725.4     71.6  "
      ]
     },
     "execution_count": 4,
     "metadata": {},
     "output_type": "execute_result"
    }
   ],
   "source": [
    "df = pd.read_csv('rainfall_area-wt_India_1901-2015.csv')\n",
    "df.head()"
   ]
  },
  {
   "cell_type": "markdown",
   "metadata": {},
   "source": [
    "Know about the data"
   ]
  },
  {
   "cell_type": "code",
   "execution_count": 6,
   "metadata": {},
   "outputs": [
    {
     "data": {
      "text/html": [
       "<div>\n",
       "<style scoped>\n",
       "    .dataframe tbody tr th:only-of-type {\n",
       "        vertical-align: middle;\n",
       "    }\n",
       "\n",
       "    .dataframe tbody tr th {\n",
       "        vertical-align: top;\n",
       "    }\n",
       "\n",
       "    .dataframe thead th {\n",
       "        text-align: right;\n",
       "    }\n",
       "</style>\n",
       "<table border=\"1\" class=\"dataframe\">\n",
       "  <thead>\n",
       "    <tr style=\"text-align: right;\">\n",
       "      <th></th>\n",
       "      <th>YEAR</th>\n",
       "      <th>JAN</th>\n",
       "      <th>FEB</th>\n",
       "      <th>MAR</th>\n",
       "      <th>APR</th>\n",
       "      <th>MAY</th>\n",
       "      <th>JUN</th>\n",
       "      <th>JUL</th>\n",
       "      <th>AUG</th>\n",
       "      <th>SEP</th>\n",
       "      <th>OCT</th>\n",
       "      <th>NOV</th>\n",
       "      <th>DEC</th>\n",
       "      <th>ANNUAL</th>\n",
       "      <th>Jan-Feb</th>\n",
       "      <th>Mar-May</th>\n",
       "      <th>Jun-Sep</th>\n",
       "      <th>Oct-Dec</th>\n",
       "    </tr>\n",
       "  </thead>\n",
       "  <tbody>\n",
       "    <tr>\n",
       "      <th>count</th>\n",
       "      <td>115.000000</td>\n",
       "      <td>115.000000</td>\n",
       "      <td>115.000000</td>\n",
       "      <td>115.000000</td>\n",
       "      <td>115.000000</td>\n",
       "      <td>115.000000</td>\n",
       "      <td>115.000000</td>\n",
       "      <td>115.000000</td>\n",
       "      <td>115.000000</td>\n",
       "      <td>115.000000</td>\n",
       "      <td>115.000000</td>\n",
       "      <td>115.000000</td>\n",
       "      <td>115.000000</td>\n",
       "      <td>115.000000</td>\n",
       "      <td>115.000000</td>\n",
       "      <td>115.000000</td>\n",
       "      <td>115.000000</td>\n",
       "      <td>115.000000</td>\n",
       "    </tr>\n",
       "    <tr>\n",
       "      <th>mean</th>\n",
       "      <td>1958.000000</td>\n",
       "      <td>19.759130</td>\n",
       "      <td>23.434783</td>\n",
       "      <td>28.254783</td>\n",
       "      <td>38.241739</td>\n",
       "      <td>62.193913</td>\n",
       "      <td>168.360000</td>\n",
       "      <td>291.022609</td>\n",
       "      <td>258.400870</td>\n",
       "      <td>172.473043</td>\n",
       "      <td>75.701739</td>\n",
       "      <td>29.205217</td>\n",
       "      <td>14.980000</td>\n",
       "      <td>1182.034783</td>\n",
       "      <td>43.189565</td>\n",
       "      <td>128.694783</td>\n",
       "      <td>890.260870</td>\n",
       "      <td>119.882609</td>\n",
       "    </tr>\n",
       "    <tr>\n",
       "      <th>std</th>\n",
       "      <td>33.341666</td>\n",
       "      <td>9.992628</td>\n",
       "      <td>11.512739</td>\n",
       "      <td>12.286408</td>\n",
       "      <td>10.353040</td>\n",
       "      <td>15.673378</td>\n",
       "      <td>35.569654</td>\n",
       "      <td>41.161390</td>\n",
       "      <td>34.975419</td>\n",
       "      <td>36.641234</td>\n",
       "      <td>28.268152</td>\n",
       "      <td>16.101056</td>\n",
       "      <td>8.788761</td>\n",
       "      <td>110.686214</td>\n",
       "      <td>14.476335</td>\n",
       "      <td>22.895134</td>\n",
       "      <td>89.179055</td>\n",
       "      <td>32.467126</td>\n",
       "    </tr>\n",
       "    <tr>\n",
       "      <th>min</th>\n",
       "      <td>1901.000000</td>\n",
       "      <td>2.700000</td>\n",
       "      <td>2.700000</td>\n",
       "      <td>7.200000</td>\n",
       "      <td>16.100000</td>\n",
       "      <td>32.100000</td>\n",
       "      <td>86.500000</td>\n",
       "      <td>138.900000</td>\n",
       "      <td>191.700000</td>\n",
       "      <td>96.900000</td>\n",
       "      <td>20.000000</td>\n",
       "      <td>3.600000</td>\n",
       "      <td>1.600000</td>\n",
       "      <td>920.800000</td>\n",
       "      <td>11.700000</td>\n",
       "      <td>84.500000</td>\n",
       "      <td>679.500000</td>\n",
       "      <td>52.700000</td>\n",
       "    </tr>\n",
       "    <tr>\n",
       "      <th>25%</th>\n",
       "      <td>1929.500000</td>\n",
       "      <td>13.000000</td>\n",
       "      <td>13.300000</td>\n",
       "      <td>19.750000</td>\n",
       "      <td>31.600000</td>\n",
       "      <td>51.600000</td>\n",
       "      <td>144.050000</td>\n",
       "      <td>267.350000</td>\n",
       "      <td>233.950000</td>\n",
       "      <td>144.850000</td>\n",
       "      <td>55.600000</td>\n",
       "      <td>17.300000</td>\n",
       "      <td>9.600000</td>\n",
       "      <td>1102.400000</td>\n",
       "      <td>33.800000</td>\n",
       "      <td>112.350000</td>\n",
       "      <td>823.550000</td>\n",
       "      <td>97.050000</td>\n",
       "    </tr>\n",
       "    <tr>\n",
       "      <th>50%</th>\n",
       "      <td>1958.000000</td>\n",
       "      <td>17.800000</td>\n",
       "      <td>22.500000</td>\n",
       "      <td>25.500000</td>\n",
       "      <td>37.400000</td>\n",
       "      <td>59.500000</td>\n",
       "      <td>165.600000</td>\n",
       "      <td>295.800000</td>\n",
       "      <td>259.300000</td>\n",
       "      <td>173.100000</td>\n",
       "      <td>69.200000</td>\n",
       "      <td>26.100000</td>\n",
       "      <td>14.100000</td>\n",
       "      <td>1190.500000</td>\n",
       "      <td>41.300000</td>\n",
       "      <td>125.100000</td>\n",
       "      <td>897.800000</td>\n",
       "      <td>116.200000</td>\n",
       "    </tr>\n",
       "    <tr>\n",
       "      <th>75%</th>\n",
       "      <td>1986.500000</td>\n",
       "      <td>24.850000</td>\n",
       "      <td>30.300000</td>\n",
       "      <td>34.400000</td>\n",
       "      <td>43.850000</td>\n",
       "      <td>71.200000</td>\n",
       "      <td>192.050000</td>\n",
       "      <td>318.650000</td>\n",
       "      <td>287.950000</td>\n",
       "      <td>198.300000</td>\n",
       "      <td>92.850000</td>\n",
       "      <td>39.650000</td>\n",
       "      <td>19.000000</td>\n",
       "      <td>1243.550000</td>\n",
       "      <td>51.400000</td>\n",
       "      <td>139.650000</td>\n",
       "      <td>959.650000</td>\n",
       "      <td>142.150000</td>\n",
       "    </tr>\n",
       "    <tr>\n",
       "      <th>max</th>\n",
       "      <td>2015.000000</td>\n",
       "      <td>58.500000</td>\n",
       "      <td>53.800000</td>\n",
       "      <td>63.300000</td>\n",
       "      <td>69.400000</td>\n",
       "      <td>114.500000</td>\n",
       "      <td>275.500000</td>\n",
       "      <td>383.400000</td>\n",
       "      <td>335.500000</td>\n",
       "      <td>281.000000</td>\n",
       "      <td>158.800000</td>\n",
       "      <td>74.200000</td>\n",
       "      <td>54.400000</td>\n",
       "      <td>1480.300000</td>\n",
       "      <td>86.300000</td>\n",
       "      <td>209.700000</td>\n",
       "      <td>1094.500000</td>\n",
       "      <td>207.500000</td>\n",
       "    </tr>\n",
       "  </tbody>\n",
       "</table>\n",
       "</div>"
      ],
      "text/plain": [
       "              YEAR         JAN         FEB         MAR         APR  \\\n",
       "count   115.000000  115.000000  115.000000  115.000000  115.000000   \n",
       "mean   1958.000000   19.759130   23.434783   28.254783   38.241739   \n",
       "std      33.341666    9.992628   11.512739   12.286408   10.353040   \n",
       "min    1901.000000    2.700000    2.700000    7.200000   16.100000   \n",
       "25%    1929.500000   13.000000   13.300000   19.750000   31.600000   \n",
       "50%    1958.000000   17.800000   22.500000   25.500000   37.400000   \n",
       "75%    1986.500000   24.850000   30.300000   34.400000   43.850000   \n",
       "max    2015.000000   58.500000   53.800000   63.300000   69.400000   \n",
       "\n",
       "              MAY         JUN         JUL         AUG         SEP         OCT  \\\n",
       "count  115.000000  115.000000  115.000000  115.000000  115.000000  115.000000   \n",
       "mean    62.193913  168.360000  291.022609  258.400870  172.473043   75.701739   \n",
       "std     15.673378   35.569654   41.161390   34.975419   36.641234   28.268152   \n",
       "min     32.100000   86.500000  138.900000  191.700000   96.900000   20.000000   \n",
       "25%     51.600000  144.050000  267.350000  233.950000  144.850000   55.600000   \n",
       "50%     59.500000  165.600000  295.800000  259.300000  173.100000   69.200000   \n",
       "75%     71.200000  192.050000  318.650000  287.950000  198.300000   92.850000   \n",
       "max    114.500000  275.500000  383.400000  335.500000  281.000000  158.800000   \n",
       "\n",
       "              NOV         DEC       ANNUAL     Jan-Feb     Mar-May  \\\n",
       "count  115.000000  115.000000   115.000000  115.000000  115.000000   \n",
       "mean    29.205217   14.980000  1182.034783   43.189565  128.694783   \n",
       "std     16.101056    8.788761   110.686214   14.476335   22.895134   \n",
       "min      3.600000    1.600000   920.800000   11.700000   84.500000   \n",
       "25%     17.300000    9.600000  1102.400000   33.800000  112.350000   \n",
       "50%     26.100000   14.100000  1190.500000   41.300000  125.100000   \n",
       "75%     39.650000   19.000000  1243.550000   51.400000  139.650000   \n",
       "max     74.200000   54.400000  1480.300000   86.300000  209.700000   \n",
       "\n",
       "           Jun-Sep     Oct-Dec  \n",
       "count   115.000000  115.000000  \n",
       "mean    890.260870  119.882609  \n",
       "std      89.179055   32.467126  \n",
       "min     679.500000   52.700000  \n",
       "25%     823.550000   97.050000  \n",
       "50%     897.800000  116.200000  \n",
       "75%     959.650000  142.150000  \n",
       "max    1094.500000  207.500000  "
      ]
     },
     "execution_count": 6,
     "metadata": {},
     "output_type": "execute_result"
    }
   ],
   "source": [
    "df.describe()"
   ]
  },
  {
   "cell_type": "code",
   "execution_count": 9,
   "metadata": {},
   "outputs": [
    {
     "name": "stdout",
     "output_type": "stream",
     "text": [
      "<class 'pandas.core.frame.DataFrame'>\n",
      "RangeIndex: 115 entries, 0 to 114\n",
      "Data columns (total 19 columns):\n",
      " #   Column   Non-Null Count  Dtype  \n",
      "---  ------   --------------  -----  \n",
      " 0   REGION   115 non-null    object \n",
      " 1   YEAR     115 non-null    int64  \n",
      " 2   JAN      115 non-null    float64\n",
      " 3   FEB      115 non-null    float64\n",
      " 4   MAR      115 non-null    float64\n",
      " 5   APR      115 non-null    float64\n",
      " 6   MAY      115 non-null    float64\n",
      " 7   JUN      115 non-null    float64\n",
      " 8   JUL      115 non-null    float64\n",
      " 9   AUG      115 non-null    float64\n",
      " 10  SEP      115 non-null    float64\n",
      " 11  OCT      115 non-null    float64\n",
      " 12  NOV      115 non-null    float64\n",
      " 13  DEC      115 non-null    float64\n",
      " 14  ANNUAL   115 non-null    float64\n",
      " 15  Jan-Feb  115 non-null    float64\n",
      " 16  Mar-May  115 non-null    float64\n",
      " 17  Jun-Sep  115 non-null    float64\n",
      " 18  Oct-Dec  115 non-null    float64\n",
      "dtypes: float64(17), int64(1), object(1)\n",
      "memory usage: 17.2+ KB\n"
     ]
    }
   ],
   "source": [
    "df.info() # to check the data types of the columns\n",
    "# it is observed that there are no null values in the dataset which is good\n",
    "# we do not need to clean the data"
   ]
  },
  {
   "cell_type": "markdown",
   "metadata": {},
   "source": [
    "Visualization over Annal Rainfall"
   ]
  },
  {
   "cell_type": "markdown",
   "metadata": {},
   "source": [
    "# Simple Data visualization"
   ]
  },
  {
   "cell_type": "code",
   "execution_count": null,
   "metadata": {},
   "outputs": [
    {
     "data": {
      "image/png": "[encoded data removed]",
      "text/plain": [
       "<Figure size 1000x700 with 1 Axes>"
      ]
     },
     "metadata": {},
     "output_type": "display_data"
    }
   ],
   "source": [
    "\n",
    "# Scatter Plotting the annual rainfall in India from 1901 to 2015\n",
    "plt.figure(figsize=(10,7))\n",
    "plt.scatter(df['YEAR'], df['ANNUAL'],alpha=0.5, color='blue',label = \"Anuual Rainfall\")\n",
    "plt.xlabel('Year',fontsize=12)\n",
    "plt.ylabel('Annual Rainfall (mm)',fontsize=12)\n",
    "plt.title('Annual Rainfall in India from 1901 to 2015',fontsize=15,fontweight='bold')\n",
    "plt.legend()\n",
    "plt.grid(True)\n",
    "\n",
    "# Adding the descriptive text below the chart\n",
    "description = (\n",
    "    'Rainfall fluctuates significantly over the years, with values ranging roughly between 900 mm to 1500 mm.'\n",
    "    'There is no clear upward or downward trend, indicating that annual rainfall has remained variable without a strong long-term increase or decrease.'\n",
    "    'Some years exhibit extreme rainfall values, which could be outliers or anomalies in the dataset.'\n",
    "    )\n",
    "\n",
    "plt.figtext(0.5, 0.01, description, wrap=True, horizontalalignment='center', fontsize=12, color='black')\n",
    "# Adjusting layout to create more space between the plot and the text\n",
    "plt.subplots_adjust(bottom=0.20)\n",
    "plt.show()\n"
   ]
  },
  {
   "cell_type": "code",
   "execution_count": null,
   "metadata": {},
   "outputs": [
    {
     "name": "stderr",
     "output_type": "stream",
     "text": [
      "C:\\Users\\yusuf\\AppData\\Local\\Temp\\ipykernel_2236\\3045938297.py:18: MatplotlibDeprecationWarning:\n",
      "\n",
      "Unable to determine Axes to steal space for Colorbar. Using gca(), but will raise in the future. Either provide the *cax* argument to use as the Axes for the Colorbar, provide the *ax* argument to steal space from it, or add *mappable* to an Axes.\n",
      "\n"
     ]
    },
    {
     "data": {
      "image/png": "[encoded data removed]",
      "text/plain": [
       "<Figure size 1000x700 with 2 Axes>"
      ]
     },
     "metadata": {},
     "output_type": "display_data"
    }
   ],
   "source": [
    "# Bin the data into 5-year intervals and calculate the mean annual rainfall for each bin\n",
    "df[\"Year_Bin\"] = (df[\"YEAR\"] // 5) * 5  # Grouping years into 5-year bins\n",
    "mean_annual_per_bin = df.groupby(\"Year_Bin\")[\"ANNUAL\"].mean().reset_index()\n",
    "\n",
    "norm = plt.Normalize(dfSorted['ANNUAL'].min(), dfSorted['ANNUAL'].max())\n",
    "\n",
    "# Sorted Horizontal Bar Plot of Annual Rainfall for better interpretation\n",
    "dfSorted = mean_annual_per_bin.sort_values('ANNUAL', ascending=True)\n",
    "colors = plt.cm.viridis(norm(dfSorted['ANNUAL']))  \n",
    "\n",
    "plt.figure(figsize=(10, 7))\n",
    "plt.barh(dfSorted['Year_Bin'].astype(str), dfSorted['ANNUAL'], color=colors)\n",
    "plt.ylabel('Year (5-Year Bins)',fontsize=12)\n",
    "plt.xlabel('Mean Annual Rainfall (mm)',fontsize=12)\n",
    "plt.title('Sorted Annual Rainfall in 5-Year Bins',fontsize=15,fontweight='bold')\n",
    "\n",
    "sm = plt.cm.ScalarMappable(cmap=\"viridis\", norm=norm)\n",
    "plt.colorbar(sm, label=\"Mean Annual Rainfall (mm)\")\n",
    "\n",
    "# Adding the descriptive text below the chart\n",
    "description = (\n",
    "    'The highest mean rainfall occurred around 1955, followed by 1945 and 1930.'\n",
    "    'The lowest mean rainfall appears in the 2000s and early 1900s, suggesting a potential decline in recent decades.'\n",
    "    'The color intensity varies, where higher rainfall years are highlighted with brighter colors, making the interpretation more visual.'\n",
    "    )\n",
    "\n",
    "plt.figtext(0.5, 0.01, description, wrap=True, horizontalalignment='center', fontsize=12, color='black')\n",
    "# Adjusting layout to create more space between the plot and the text\n",
    "plt.subplots_adjust(bottom=0.20)\n",
    "plt.show()\n"
   ]
  },
  {
   "cell_type": "markdown",
   "metadata": {},
   "source": [
    "Mean Rainfall of Each Month with Min and Max Indications"
   ]
  },
  {
   "cell_type": "code",
   "execution_count": 5,
   "metadata": {},
   "outputs": [
    {
     "data": {
      "image/png": "[encoded data removed]",
      "text/plain": [
       "<Figure size 1200x800 with 1 Axes>"
      ]
     },
     "metadata": {},
     "output_type": "display_data"
    }
   ],
   "source": [
    "\n",
    "# List of month columns\n",
    "month_cols = [\"JAN\", \"FEB\", \"MAR\", \"APR\", \"MAY\", \"JUN\", \"JUL\", \"AUG\", \"SEP\", \"OCT\", \"NOV\", \"DEC\"]\n",
    "\n",
    "# Calculate mean, min, and max rainfall for each month\n",
    "mean_rainfall = df[month_cols].mean()\n",
    "min_rainfall = df[month_cols].min()\n",
    "max_rainfall = df[month_cols].max()\n",
    "\n",
    "# Scatter Plot of Mean Rainfall with min and max indication\n",
    "plt.figure(figsize=(12, 8))\n",
    "plt.scatter(month_cols, mean_rainfall, color=\"blue\", label=\"Mean Rainfall\")\n",
    "plt.scatter(month_cols, min_rainfall, color=\"red\", marker=\"v\", label=\"Min Rainfall\")\n",
    "plt.scatter(month_cols, max_rainfall, color=\"green\", marker=\"^\", label=\"Max Rainfall\")\n",
    "\n",
    "# Labels and title\n",
    "plt.xlabel(\"Month\",fontsize=12)\n",
    "plt.ylabel(\"Rainfall (mm)\",fontsize=12)\n",
    "plt.title(\"Mean Rainfall of Each Month with Min and Max Indications\",fontsize=15,fontweight='bold')\n",
    "plt.legend()\n",
    "plt.grid(True)\n",
    "# Adding the descriptive text below the chart\n",
    "description = (\n",
    "    'The scatter plot displays average monthly rainfall along with minimum (red triangles) and maximum (green triangles) values.'\n",
    "    'The monsoon months (June, July, August, and September) have the highest average rainfall, peaking in July (~350-400 mm).'\n",
    "    'The pre-monsoon (March-May) and post-monsoon (October-December) months have moderate rainfall, with noticeable variation.'\n",
    "    'Winter months (January & February) have the least rainfall, with values mostly below 50 mm.'\n",
    "    'The presence of min/max markers shows that rainfall varies widely from year to year for some months, especially July and August.'\n",
    ")\n",
    "\n",
    "plt.figtext(0.5, 0.01, description, wrap=True, horizontalalignment='center', fontsize=12, color='black')\n",
    "# Adjusting layout to create more space between the plot and the text\n",
    "plt.subplots_adjust(bottom=0.20)\n",
    "plt.show()\n"
   ]
  },
  {
   "cell_type": "code",
   "execution_count": 63,
   "metadata": {},
   "outputs": [
    {
     "data": {
      "image/png": "[encoded data removed]",
      "text/plain": [
       "<Figure size 1200x900 with 1 Axes>"
      ]
     },
     "metadata": {},
     "output_type": "display_data"
    }
   ],
   "source": [
    "import matplotlib.pyplot as plt\n",
    "\n",
    "# List of seasonal columns\n",
    "seasonal_columns = [\"Jan-Feb\", \"Mar-May\", \"Jun-Sep\", \"Oct-Dec\"]\n",
    "colors = [\"blue\", \"green\", \"red\", \"purple\"]  # Different colors for each season\n",
    "\n",
    "# Create the line plot\n",
    "plt.figure(figsize=(12, 9))\n",
    "\n",
    "for season, color in zip(seasonal_columns, colors):\n",
    "    plt.plot(df[\"YEAR\"], df[season], label=season, color=color, linewidth=2)\n",
    "\n",
    "# Labels and title\n",
    "plt.xlabel(\"Year\",fontsize=12)\n",
    "plt.ylabel(\"Rainfall (mm)\",fontsize=12)\n",
    "plt.title(\"Season-wise Rainfall Trends Across Years\",fontsize=15,fontweight='bold')\n",
    "plt.legend()\n",
    "plt.grid(True)\n",
    "\n",
    "# Adding the descriptive text below the chart\n",
    "description = (\n",
    "    'The majority of the annual rainfall occurs in the Jun-Sep (monsoon) season, as expected.'\n",
    "    'Jan-Feb, Mar-May, and Oct-Dec contribute significantly less rainfall, but there is visible variability in these seasons over the years.'\n",
    "    'There is high inter-annual variability in monsoon rainfall, with fluctuations occurring frequently.'\n",
    "    )\n",
    "\n",
    "plt.figtext(0.5, 0.01, description, wrap=True, horizontalalignment='center', fontsize=12, color='black')\n",
    "# Adjusting layout to create more space between the plot and the text\n",
    "plt.subplots_adjust(bottom=0.15)\n",
    "plt.show()\n"
   ]
  },
  {
   "cell_type": "markdown",
   "metadata": {},
   "source": [
    "# Advance Data Visualization by using plotly and sklearn"
   ]
  },
  {
   "cell_type": "markdown",
   "metadata": {},
   "source": [
    "Detecting Anomalies in the Rainfall Trends in India"
   ]
  },
  {
   "cell_type": "code",
   "execution_count": 6,
   "metadata": {},
   "outputs": [
    {
     "data": {
      "application/vnd.plotly.v1+json": {
       "config": {
        "plotlyServerURL": "https://plot.ly"
       },
       "data": [
        {
         "line": {
          "color": "blue",
          "width": 2
         },
         "mode": "lines",
         "name": "Annual Rainfall",
         "opacity": 0.8,
         "type": "scatter",
         "x": [
          1901,
          1902,
          1903,
          1904,
          1905,
          1906,
          1907,
          1908,
          1909,
          1910,
          1911,
          1912,
          1913,
          1914,
          1915,
          1916,
          1917,
          1918,
          1919,
          1920,
          1921,
          1922,
          1923,
          1924,
          1925,
          1926,
          1927,
          1928,
          1929,
          1930,
          1931,
          1932,
          1933,
          1934,
          1935,
          1936,
          1937,
          1938,
          1939,
          1940,
          1941,
          1942,
          1943,
          1944,
          1945,
          1946,
          1947,
          1948,
          1949,
          1950,
          1951,
          1952,
          1953,
          1954,
          1955,
          1956,
          1957,
          1958,
          1959,
          1960,
          1961,
          1962,
          1963,
          1964,
          1965,
          1966,
          1967,
          1968,
          1969,
          1970,
          1971,
          1972,
          1973,
          1974,
          1975,
          1976,
          1977,
          1978,
          1979,
          1980,
          1981,
          1982,
          1983,
          1984,
          1985,
          1986,
          1987,
          1988,
          1989,
          1990,
          1991,
          1992,
          1993,
          1994,
          1995,
          1996,
          1997,
          1998,
          1999,
          2000,
          2001,
          2002,
          2003,
          2004,
          2005,
          2006,
          2007,
          2008,
          2009,
          2010,
          2011,
          2012,
          2013,
          2014,
          2015
         ],
         "y": [
          1032.3,
          1030.2,
          1190.5,
          1019.8,
          975.3,
          1144.1,
          1039.7,
          1096.6,
          1158.1,
          1200.3,
          1047.5,
          1078.1,
          1068.9,
          1214.3,
          1137.2,
          1337.1,
          1480.3,
          1026.2,
          1308.9,
          1047.9,
          1240.2,
          1211.9,
          1176.3,
          1268.3,
          1210.4,
          1246.8,
          1262.6,
          1218.4,
          1208.5,
          1209.4,
          1314.6,
          1218.9,
          1393.5,
          1227.6,
          1143.4,
          1341.7,
          1218.1,
          1306.7,
          1125.9,
          1214.6,
          1080.9,
          1292.7,
          1282.1,
          1319.1,
          1225.8,
          1332.6,
          1236.6,
          1341.9,
          1272.4,
          1172.5,
          1061.3,
          1108.2,
          1222.9,
          1180.3,
          1298.3,
          1386.2,
          1178.2,
          1331,
          1382.1,
          1149,
          1403,
          1196.4,
          1210.2,
          1235.1,
          938.4,
          1064,
          1148.3,
          1054.2,
          1147.7,
          1247,
          1218,
          948.5,
          1214,
          1043.7,
          1290.2,
          1124.8,
          1270.4,
          1239.3,
          1023.4,
          1189.5,
          1171.6,
          1086.8,
          1331.5,
          1155.9,
          1140,
          1126.6,
          1078.9,
          1351,
          1122.4,
          1400.6,
          1159.9,
          1121.3,
          1201.9,
          1295.6,
          1243.6,
          1181.8,
          1171.4,
          1243.5,
          1132,
          1050.4,
          1083.3,
          920.8,
          1174.5,
          1071.3,
          1232.5,
          1199.4,
          1215.6,
          1132.1,
          959.3,
          1200.5,
          1110.1,
          1073.5,
          1216.2,
          1033.7,
          1093.2
         ]
        },
        {
         "marker": {
          "color": "red",
          "size": 10,
          "symbol": "circle"
         },
         "mode": "markers",
         "name": "Anomalous Years",
         "type": "scatter",
         "x": [
          1905,
          1917,
          1965,
          1972,
          2002,
          2009
         ],
         "y": [
          975.3,
          1480.3,
          938.4,
          948.5,
          920.8,
          959.3
         ]
        }
       ],
       "layout": {
        "annotations": [
         {
          "font": {
           "color": "darkgreen",
           "size": 14
          },
          "showarrow": false,
          "text": "Mean Rainfall",
          "x": 1,
          "xanchor": "right",
          "xref": "x domain",
          "y": 1182.0347826086959,
          "yanchor": "top",
          "yref": "y"
         },
         {
          "align": "center",
          "font": {
           "color": "gray",
           "size": 14
          },
          "showarrow": false,
          "text": "<b>Red dots</b> indicate anomalous rainfall years detected using <b>Isolation Forest</b>.<br><b>Green dashed line</b> represents the mean annual rainfall, serving as a baseline for comparison.<br>Anomalies occur across decades, with extreme deviations seen around <b>1917, 1965, 2002, and 2009</b>.",
          "x": 0.5,
          "xref": "paper",
          "y": -0.3,
          "yref": "paper"
         }
        ],
        "height": 600,
        "legend": {
         "font": {
          "size": 12
         },
         "title": {
          "text": "Legend"
         }
        },
        "margin": {
         "b": 150,
         "l": 80,
         "r": 50,
         "t": 100
        },
        "shapes": [
         {
          "line": {
           "color": "green",
           "dash": "dash"
          },
          "type": "line",
          "x0": 0,
          "x1": 1,
          "xref": "x domain",
          "y0": 1182.0347826086959,
          "y1": 1182.0347826086959,
          "yref": "y"
         }
        ],
        "template": {
         "data": {
          "bar": [
           {
            "error_x": {
             "color": "#2a3f5f"
            },
            "error_y": {
             "color": "#2a3f5f"
            },
            "marker": {
             "line": {
              "color": "white",
              "width": 0.5
             },
             "pattern": {
              "fillmode": "overlay",
              "size": 10,
              "solidity": 0.2
             }
            },
            "type": "bar"
           }
          ],
          "barpolar": [
           {
            "marker": {
             "line": {
              "color": "white",
              "width": 0.5
             },
             "pattern": {
              "fillmode": "overlay",
              "size": 10,
              "solidity": 0.2
             }
            },
            "type": "barpolar"
           }
          ],
          "carpet": [
           {
            "aaxis": {
             "endlinecolor": "#2a3f5f",
             "gridcolor": "#C8D4E3",
             "linecolor": "#C8D4E3",
             "minorgridcolor": "#C8D4E3",
             "startlinecolor": "#2a3f5f"
            },
            "baxis": {
             "endlinecolor": "#2a3f5f",
             "gridcolor": "#C8D4E3",
             "linecolor": "#C8D4E3",
             "minorgridcolor": "#C8D4E3",
             "startlinecolor": "#2a3f5f"
            },
            "type": "carpet"
           }
          ],
          "choropleth": [
           {
            "colorbar": {
             "outlinewidth": 0,
             "ticks": ""
            },
            "type": "choropleth"
           }
          ],
          "contour": [
           {
            "colorbar": {
             "outlinewidth": 0,
             "ticks": ""
            },
            "colorscale": [
             [
              0,
              "#0d0887"
             ],
             [
              0.1111111111111111,
              "#46039f"
             ],
             [
              0.2222222222222222,
              "#7201a8"
             ],
             [
              0.3333333333333333,
              "#9c179e"
             ],
             [
              0.4444444444444444,
              "#bd3786"
             ],
             [
              0.5555555555555556,
              "#d8576b"
             ],
             [
              0.6666666666666666,
              "#ed7953"
             ],
             [
              0.7777777777777778,
              "#fb9f3a"
             ],
             [
              0.8888888888888888,
              "#fdca26"
             ],
             [
              1,
              "#f0f921"
             ]
            ],
            "type": "contour"
           }
          ],
          "contourcarpet": [
           {
            "colorbar": {
             "outlinewidth": 0,
             "ticks": ""
            },
            "type": "contourcarpet"
           }
          ],
          "heatmap": [
           {
            "colorbar": {
             "outlinewidth": 0,
             "ticks": ""
            },
            "colorscale": [
             [
              0,
              "#0d0887"
             ],
             [
              0.1111111111111111,
              "#46039f"
             ],
             [
              0.2222222222222222,
              "#7201a8"
             ],
             [
              0.3333333333333333,
              "#9c179e"
             ],
             [
              0.4444444444444444,
              "#bd3786"
             ],
             [
              0.5555555555555556,
              "#d8576b"
             ],
             [
              0.6666666666666666,
              "#ed7953"
             ],
             [
              0.7777777777777778,
              "#fb9f3a"
             ],
             [
              0.8888888888888888,
              "#fdca26"
             ],
             [
              1,
              "#f0f921"
             ]
            ],
            "type": "heatmap"
           }
          ],
          "heatmapgl": [
           {
            "colorbar": {
             "outlinewidth": 0,
             "ticks": ""
            },
            "colorscale": [
             [
              0,
              "#0d0887"
             ],
             [
              0.1111111111111111,
              "#46039f"
             ],
             [
              0.2222222222222222,
              "#7201a8"
             ],
             [
              0.3333333333333333,
              "#9c179e"
             ],
             [
              0.4444444444444444,
              "#bd3786"
             ],
             [
              0.5555555555555556,
              "#d8576b"
             ],
             [
              0.6666666666666666,
              "#ed7953"
             ],
             [
              0.7777777777777778,
              "#fb9f3a"
             ],
             [
              0.8888888888888888,
              "#fdca26"
             ],
             [
              1,
              "#f0f921"
             ]
            ],
            "type": "heatmapgl"
           }
          ],
          "histogram": [
           {
            "marker": {
             "pattern": {
              "fillmode": "overlay",
              "size": 10,
              "solidity": 0.2
             }
            },
            "type": "histogram"
           }
          ],
          "histogram2d": [
           {
            "colorbar": {
             "outlinewidth": 0,
             "ticks": ""
            },
            "colorscale": [
             [
              0,
              "#0d0887"
             ],
             [
              0.1111111111111111,
              "#46039f"
             ],
             [
              0.2222222222222222,
              "#7201a8"
             ],
             [
              0.3333333333333333,
              "#9c179e"
             ],
             [
              0.4444444444444444,
              "#bd3786"
             ],
             [
              0.5555555555555556,
              "#d8576b"
             ],
             [
              0.6666666666666666,
              "#ed7953"
             ],
             [
              0.7777777777777778,
              "#fb9f3a"
             ],
             [
              0.8888888888888888,
              "#fdca26"
             ],
             [
              1,
              "#f0f921"
             ]
            ],
            "type": "histogram2d"
           }
          ],
          "histogram2dcontour": [
           {
            "colorbar": {
             "outlinewidth": 0,
             "ticks": ""
            },
            "colorscale": [
             [
              0,
              "#0d0887"
             ],
             [
              0.1111111111111111,
              "#46039f"
             ],
             [
              0.2222222222222222,
              "#7201a8"
             ],
             [
              0.3333333333333333,
              "#9c179e"
             ],
             [
              0.4444444444444444,
              "#bd3786"
             ],
             [
              0.5555555555555556,
              "#d8576b"
             ],
             [
              0.6666666666666666,
              "#ed7953"
             ],
             [
              0.7777777777777778,
              "#fb9f3a"
             ],
             [
              0.8888888888888888,
              "#fdca26"
             ],
             [
              1,
              "#f0f921"
             ]
            ],
            "type": "histogram2dcontour"
           }
          ],
          "mesh3d": [
           {
            "colorbar": {
             "outlinewidth": 0,
             "ticks": ""
            },
            "type": "mesh3d"
           }
          ],
          "parcoords": [
           {
            "line": {
             "colorbar": {
              "outlinewidth": 0,
              "ticks": ""
             }
            },
            "type": "parcoords"
           }
          ],
          "pie": [
           {
            "automargin": true,
            "type": "pie"
           }
          ],
          "scatter": [
           {
            "fillpattern": {
             "fillmode": "overlay",
             "size": 10,
             "solidity": 0.2
            },
            "type": "scatter"
           }
          ],
          "scatter3d": [
           {
            "line": {
             "colorbar": {
              "outlinewidth": 0,
              "ticks": ""
             }
            },
            "marker": {
             "colorbar": {
              "outlinewidth": 0,
              "ticks": ""
             }
            },
            "type": "scatter3d"
           }
          ],
          "scattercarpet": [
           {
            "marker": {
             "colorbar": {
              "outlinewidth": 0,
              "ticks": ""
             }
            },
            "type": "scattercarpet"
           }
          ],
          "scattergeo": [
           {
            "marker": {
             "colorbar": {
              "outlinewidth": 0,
              "ticks": ""
             }
            },
            "type": "scattergeo"
           }
          ],
          "scattergl": [
           {
            "marker": {
             "colorbar": {
              "outlinewidth": 0,
              "ticks": ""
             }
            },
            "type": "scattergl"
           }
          ],
          "scattermapbox": [
           {
            "marker": {
             "colorbar": {
              "outlinewidth": 0,
              "ticks": ""
             }
            },
            "type": "scattermapbox"
           }
          ],
          "scatterpolar": [
           {
            "marker": {
             "colorbar": {
              "outlinewidth": 0,
              "ticks": ""
             }
            },
            "type": "scatterpolar"
           }
          ],
          "scatterpolargl": [
           {
            "marker": {
             "colorbar": {
              "outlinewidth": 0,
              "ticks": ""
             }
            },
            "type": "scatterpolargl"
           }
          ],
          "scatterternary": [
           {
            "marker": {
             "colorbar": {
              "outlinewidth": 0,
              "ticks": ""
             }
            },
            "type": "scatterternary"
           }
          ],
          "surface": [
           {
            "colorbar": {
             "outlinewidth": 0,
             "ticks": ""
            },
            "colorscale": [
             [
              0,
              "#0d0887"
             ],
             [
              0.1111111111111111,
              "#46039f"
             ],
             [
              0.2222222222222222,
              "#7201a8"
             ],
             [
              0.3333333333333333,
              "#9c179e"
             ],
             [
              0.4444444444444444,
              "#bd3786"
             ],
             [
              0.5555555555555556,
              "#d8576b"
             ],
             [
              0.6666666666666666,
              "#ed7953"
             ],
             [
              0.7777777777777778,
              "#fb9f3a"
             ],
             [
              0.8888888888888888,
              "#fdca26"
             ],
             [
              1,
              "#f0f921"
             ]
            ],
            "type": "surface"
           }
          ],
          "table": [
           {
            "cells": {
             "fill": {
              "color": "#EBF0F8"
             },
             "line": {
              "color": "white"
             }
            },
            "header": {
             "fill": {
              "color": "#C8D4E3"
             },
             "line": {
              "color": "white"
             }
            },
            "type": "table"
           }
          ]
         },
         "layout": {
          "annotationdefaults": {
           "arrowcolor": "#2a3f5f",
           "arrowhead": 0,
           "arrowwidth": 1
          },
          "autotypenumbers": "strict",
          "coloraxis": {
           "colorbar": {
            "outlinewidth": 0,
            "ticks": ""
           }
          },
          "colorscale": {
           "diverging": [
            [
             0,
             "#8e0152"
            ],
            [
             0.1,
             "#c51b7d"
            ],
            [
             0.2,
             "#de77ae"
            ],
            [
             0.3,
             "#f1b6da"
            ],
            [
             0.4,
             "#fde0ef"
            ],
            [
             0.5,
             "#f7f7f7"
            ],
            [
             0.6,
             "#e6f5d0"
            ],
            [
             0.7,
             "#b8e186"
            ],
            [
             0.8,
             "#7fbc41"
            ],
            [
             0.9,
             "#4d9221"
            ],
            [
             1,
             "#276419"
            ]
           ],
           "sequential": [
            [
             0,
             "#0d0887"
            ],
            [
             0.1111111111111111,
             "#46039f"
            ],
            [
             0.2222222222222222,
             "#7201a8"
            ],
            [
             0.3333333333333333,
             "#9c179e"
            ],
            [
             0.4444444444444444,
             "#bd3786"
            ],
            [
             0.5555555555555556,
             "#d8576b"
            ],
            [
             0.6666666666666666,
             "#ed7953"
            ],
            [
             0.7777777777777778,
             "#fb9f3a"
            ],
            [
             0.8888888888888888,
             "#fdca26"
            ],
            [
             1,
             "#f0f921"
            ]
           ],
           "sequentialminus": [
            [
             0,
             "#0d0887"
            ],
            [
             0.1111111111111111,
             "#46039f"
            ],
            [
             0.2222222222222222,
             "#7201a8"
            ],
            [
             0.3333333333333333,
             "#9c179e"
            ],
            [
             0.4444444444444444,
             "#bd3786"
            ],
            [
             0.5555555555555556,
             "#d8576b"
            ],
            [
             0.6666666666666666,
             "#ed7953"
            ],
            [
             0.7777777777777778,
             "#fb9f3a"
            ],
            [
             0.8888888888888888,
             "#fdca26"
            ],
            [
             1,
             "#f0f921"
            ]
           ]
          },
          "colorway": [
           "#636efa",
           "#EF553B",
           "#00cc96",
           "#ab63fa",
           "#FFA15A",
           "#19d3f3",
           "#FF6692",
           "#B6E880",
           "#FF97FF",
           "#FECB52"
          ],
          "font": {
           "color": "#2a3f5f"
          },
          "geo": {
           "bgcolor": "white",
           "lakecolor": "white",
           "landcolor": "white",
           "showlakes": true,
           "showland": true,
           "subunitcolor": "#C8D4E3"
          },
          "hoverlabel": {
           "align": "left"
          },
          "hovermode": "closest",
          "mapbox": {
           "style": "light"
          },
          "paper_bgcolor": "white",
          "plot_bgcolor": "white",
          "polar": {
           "angularaxis": {
            "gridcolor": "#EBF0F8",
            "linecolor": "#EBF0F8",
            "ticks": ""
           },
           "bgcolor": "white",
           "radialaxis": {
            "gridcolor": "#EBF0F8",
            "linecolor": "#EBF0F8",
            "ticks": ""
           }
          },
          "scene": {
           "xaxis": {
            "backgroundcolor": "white",
            "gridcolor": "#DFE8F3",
            "gridwidth": 2,
            "linecolor": "#EBF0F8",
            "showbackground": true,
            "ticks": "",
            "zerolinecolor": "#EBF0F8"
           },
           "yaxis": {
            "backgroundcolor": "white",
            "gridcolor": "#DFE8F3",
            "gridwidth": 2,
            "linecolor": "#EBF0F8",
            "showbackground": true,
            "ticks": "",
            "zerolinecolor": "#EBF0F8"
           },
           "zaxis": {
            "backgroundcolor": "white",
            "gridcolor": "#DFE8F3",
            "gridwidth": 2,
            "linecolor": "#EBF0F8",
            "showbackground": true,
            "ticks": "",
            "zerolinecolor": "#EBF0F8"
           }
          },
          "shapedefaults": {
           "line": {
            "color": "#2a3f5f"
           }
          },
          "ternary": {
           "aaxis": {
            "gridcolor": "#DFE8F3",
            "linecolor": "#A2B1C6",
            "ticks": ""
           },
           "baxis": {
            "gridcolor": "#DFE8F3",
            "linecolor": "#A2B1C6",
            "ticks": ""
           },
           "bgcolor": "white",
           "caxis": {
            "gridcolor": "#DFE8F3",
            "linecolor": "#A2B1C6",
            "ticks": ""
           }
          },
          "title": {
           "x": 0.05
          },
          "xaxis": {
           "automargin": true,
           "gridcolor": "#EBF0F8",
           "linecolor": "#EBF0F8",
           "ticks": "",
           "title": {
            "standoff": 15
           },
           "zerolinecolor": "#EBF0F8",
           "zerolinewidth": 2
          },
          "yaxis": {
           "automargin": true,
           "gridcolor": "#EBF0F8",
           "linecolor": "#EBF0F8",
           "ticks": "",
           "title": {
            "standoff": 15
           },
           "zerolinecolor": "#EBF0F8",
           "zerolinewidth": 2
          }
         }
        },
        "title": {
         "font": {
          "color": "darkblue",
          "size": 18
         },
         "text": "Annual Rainfall Anomalies (1901-2015)",
         "x": 0.5
        },
        "width": 900,
        "xaxis": {
         "tickfont": {
          "size": 14
         },
         "title": {
          "font": {
           "color": "black",
           "size": 15
          },
          "text": "Year"
         }
        },
        "yaxis": {
         "tickfont": {
          "size": 12
         },
         "title": {
          "font": {
           "color": "black",
           "size": 15
          },
          "text": "Rainfall (mm)"
         }
        }
       }
      }
     },
     "metadata": {},
     "output_type": "display_data"
    }
   ],
   "source": [
    "import plotly.graph_objects as go\n",
    "from sklearn.ensemble import IsolationForest\n",
    "\n",
    "# Detect anomalous rainfall years based on annual data\n",
    "isolation_forest = IsolationForest(contamination=0.05, random_state=42)\n",
    "df[\"Annual_Anomaly\"] = isolation_forest.fit_predict(df[[\"ANNUAL\"]])\n",
    "\n",
    "# Identify anomalies in annual rainfall\n",
    "annual_anomalies = df[df[\"Annual_Anomaly\"] == -1]\n",
    "\n",
    "# Create figure for annual rainfall anomalies\n",
    "fig = go.Figure()\n",
    "\n",
    "# Add annual rainfall data\n",
    "fig.add_trace(go.Scatter(\n",
    "    x=df[\"YEAR\"],\n",
    "    y=df[\"ANNUAL\"],\n",
    "    mode=\"lines\",\n",
    "    name=\"Annual Rainfall\",\n",
    "    line=dict(color=\"blue\", width=2),\n",
    "    opacity=0.8\n",
    "))\n",
    "\n",
    "# Add anomaly points\n",
    "fig.add_trace(go.Scatter(\n",
    "    x=annual_anomalies[\"YEAR\"],\n",
    "    y=annual_anomalies[\"ANNUAL\"],\n",
    "    mode=\"markers\",\n",
    "    name=\"Anomalous Years\",\n",
    "    marker=dict(color=\"red\", size=10, symbol=\"circle\"),\n",
    "))\n",
    "\n",
    "# Add mean rainfall reference line\n",
    "fig.add_hline(\n",
    "    y=df[\"ANNUAL\"].mean(),\n",
    "    line_dash=\"dash\",\n",
    "    line_color=\"green\",\n",
    "    annotation_text=\"Mean Rainfall\",\n",
    "    annotation_position=\"bottom right\",\n",
    "    annotation_font=dict(size=14, color=\"darkgreen\")\n",
    ")\n",
    "\n",
    "# Update layout\n",
    "fig.update_layout(\n",
    "    title=dict(\n",
    "        text=\"Annual Rainfall Anomalies (1901-2015)\",\n",
    "        font=dict(size=18, color=\"darkblue\"),\n",
    "        x=0.5\n",
    "    ),\n",
    "    xaxis=dict(\n",
    "        title=\"Year\",\n",
    "        title_font=dict(size=15, color=\"black\"),\n",
    "        tickfont=dict(size=14)\n",
    "    ),\n",
    "    yaxis=dict(\n",
    "        title=\"Rainfall (mm)\",\n",
    "        title_font=dict(size=15, color=\"black\"),\n",
    "        tickfont=dict(size=12)\n",
    "    ),\n",
    "    template=\"plotly_white\",\n",
    "    legend=dict(\n",
    "        title=\"Legend\",\n",
    "        font=dict(size=12)\n",
    "    ),\n",
    "    height=600,\n",
    "    width=900,\n",
    "    margin=dict(l=80, r=50, t=100, b=150)  # Adjust margins to fit subtitle\n",
    ")\n",
    "\n",
    "# Add subtitle with better spacing and alignment\n",
    "fig.add_annotation(\n",
    "    text=\"<b>Red dots</b> indicate anomalous rainfall years detected using <b>Isolation Forest</b>.<br>\"\n",
    "         \"<b>Green dashed line</b> represents the mean annual rainfall, serving as a baseline for comparison.<br>\"\n",
    "         \"Anomalies occur across decades, with extreme deviations seen around <b>1917, 1965, 2002, and 2009</b>.\",\n",
    "    showarrow=False,\n",
    "    xref=\"paper\",\n",
    "    yref=\"paper\",\n",
    "    x=0.5,\n",
    "    y=-0.30,  # Adjusted to prevent clipping\n",
    "    font=dict(size=14, color=\"gray\"),\n",
    "    align=\"center\"\n",
    ")\n",
    "\n",
    "# Show plot\n",
    "fig.show()\n"
   ]
  },
  {
   "cell_type": "markdown",
   "metadata": {},
   "source": [
    "Grouping Years Based on Rainfall Patterns"
   ]
  },
  {
   "cell_type": "code",
   "execution_count": 91,
   "metadata": {},
   "outputs": [
    {
     "name": "stderr",
     "output_type": "stream",
     "text": [
      "c:\\Users\\yusuf\\anaconda3\\Lib\\site-packages\\sklearn\\cluster\\_kmeans.py:1436: UserWarning:\n",
      "\n",
      "KMeans is known to have a memory leak on Windows with MKL, when there are less chunks than available threads. You can avoid it by setting the environment variable OMP_NUM_THREADS=1.\n",
      "\n"
     ]
    },
    {
     "data": {
      "application/vnd.plotly.v1+json": {
       "config": {
        "plotlyServerURL": "https://plot.ly"
       },
       "data": [
        {
         "customdata": [
          [
           1,
           "Dry"
          ],
          [
           1,
           "Dry"
          ],
          [
           1,
           "Dry"
          ],
          [
           1,
           "Dry"
          ],
          [
           1,
           "Dry"
          ],
          [
           1,
           "Dry"
          ],
          [
           1,
           "Dry"
          ],
          [
           1,
           "Dry"
          ],
          [
           1,
           "Dry"
          ],
          [
           1,
           "Dry"
          ],
          [
           1,
           "Dry"
          ],
          [
           1,
           "Dry"
          ],
          [
           1,
           "Dry"
          ],
          [
           1,
           "Dry"
          ],
          [
           1,
           "Dry"
          ],
          [
           1,
           "Dry"
          ],
          [
           1,
           "Dry"
          ],
          [
           1,
           "Dry"
          ],
          [
           1,
           "Dry"
          ],
          [
           1,
           "Dry"
          ],
          [
           1,
           "Dry"
          ],
          [
           1,
           "Dry"
          ],
          [
           1,
           "Dry"
          ],
          [
           1,
           "Dry"
          ],
          [
           1,
           "Dry"
          ],
          [
           1,
           "Dry"
          ],
          [
           1,
           "Dry"
          ],
          [
           1,
           "Dry"
          ],
          [
           1,
           "Dry"
          ],
          [
           1,
           "Dry"
          ],
          [
           1,
           "Dry"
          ],
          [
           1,
           "Dry"
          ]
         ],
         "hovertemplate": "Rainfall Category=%{customdata[1]}<br>Year=%{x}<br>Annual Rainfall (mm)=%{y}<br>Rainfall_Cluster=%{customdata[0]}<extra></extra>",
         "legendgroup": "Dry",
         "marker": {
          "color": "rgb(102,194,165)",
          "symbol": "circle"
         },
         "mode": "markers",
         "name": "Dry",
         "orientation": "v",
         "showlegend": true,
         "type": "scatter",
         "x": [
          1901,
          1902,
          1904,
          1905,
          1907,
          1911,
          1912,
          1913,
          1915,
          1918,
          1920,
          1941,
          1951,
          1952,
          1965,
          1966,
          1968,
          1972,
          1974,
          1979,
          1982,
          1985,
          1986,
          1987,
          1999,
          2000,
          2001,
          2002,
          2004,
          2009,
          2014,
          2015
         ],
         "xaxis": "x",
         "y": [
          1032.3,
          1030.2,
          1019.8,
          975.3,
          1039.7,
          1047.5,
          1078.1,
          1068.9,
          1137.2,
          1026.2,
          1047.9,
          1080.9,
          1061.3,
          1108.2,
          938.4,
          1064,
          1054.2,
          948.5,
          1043.7,
          1023.4,
          1086.8,
          1140,
          1126.6,
          1078.9,
          1132,
          1050.4,
          1083.3,
          920.8,
          1071.3,
          959.3,
          1033.7,
          1093.2
         ],
         "yaxis": "y"
        },
        {
         "customdata": [
          [
           2,
           "Wet"
          ],
          [
           2,
           "Wet"
          ],
          [
           2,
           "Wet"
          ],
          [
           2,
           "Wet"
          ],
          [
           2,
           "Wet"
          ],
          [
           2,
           "Wet"
          ],
          [
           2,
           "Wet"
          ],
          [
           2,
           "Wet"
          ],
          [
           2,
           "Wet"
          ],
          [
           2,
           "Wet"
          ],
          [
           2,
           "Wet"
          ],
          [
           2,
           "Wet"
          ],
          [
           2,
           "Wet"
          ],
          [
           2,
           "Wet"
          ],
          [
           2,
           "Wet"
          ],
          [
           2,
           "Wet"
          ],
          [
           2,
           "Wet"
          ],
          [
           2,
           "Wet"
          ],
          [
           2,
           "Wet"
          ],
          [
           2,
           "Wet"
          ],
          [
           2,
           "Wet"
          ],
          [
           2,
           "Wet"
          ],
          [
           2,
           "Wet"
          ],
          [
           2,
           "Wet"
          ],
          [
           2,
           "Wet"
          ],
          [
           2,
           "Wet"
          ],
          [
           2,
           "Wet"
          ],
          [
           2,
           "Wet"
          ],
          [
           2,
           "Wet"
          ],
          [
           2,
           "Wet"
          ],
          [
           2,
           "Wet"
          ],
          [
           2,
           "Wet"
          ],
          [
           2,
           "Wet"
          ],
          [
           2,
           "Wet"
          ],
          [
           2,
           "Wet"
          ],
          [
           2,
           "Wet"
          ],
          [
           2,
           "Wet"
          ],
          [
           2,
           "Wet"
          ],
          [
           2,
           "Wet"
          ],
          [
           2,
           "Wet"
          ],
          [
           2,
           "Wet"
          ]
         ],
         "hovertemplate": "Rainfall Category=%{customdata[1]}<br>Year=%{x}<br>Annual Rainfall (mm)=%{y}<br>Rainfall_Cluster=%{customdata[0]}<extra></extra>",
         "legendgroup": "Wet",
         "marker": {
          "color": "rgb(252,141,98)",
          "symbol": "circle"
         },
         "mode": "markers",
         "name": "Wet",
         "orientation": "v",
         "showlegend": true,
         "type": "scatter",
         "x": [
          1903,
          1916,
          1917,
          1919,
          1924,
          1925,
          1927,
          1928,
          1929,
          1930,
          1931,
          1932,
          1933,
          1936,
          1937,
          1938,
          1940,
          1943,
          1944,
          1946,
          1948,
          1949,
          1955,
          1956,
          1958,
          1959,
          1961,
          1963,
          1971,
          1975,
          1977,
          1983,
          1988,
          1990,
          1993,
          1994,
          1995,
          1997,
          1998,
          2005,
          2010
         ],
         "xaxis": "x",
         "y": [
          1190.5,
          1337.1,
          1480.3,
          1308.9,
          1268.3,
          1210.4,
          1262.6,
          1218.4,
          1208.5,
          1209.4,
          1314.6,
          1218.9,
          1393.5,
          1341.7,
          1218.1,
          1306.7,
          1214.6,
          1282.1,
          1319.1,
          1332.6,
          1341.9,
          1272.4,
          1298.3,
          1386.2,
          1331,
          1382.1,
          1403,
          1210.2,
          1218,
          1290.2,
          1270.4,
          1331.5,
          1351,
          1400.6,
          1201.9,
          1295.6,
          1243.6,
          1171.4,
          1243.5,
          1232.5,
          1200.5
         ],
         "yaxis": "y"
        },
        {
         "customdata": [
          [
           0,
           "Normal"
          ],
          [
           0,
           "Normal"
          ],
          [
           0,
           "Normal"
          ],
          [
           0,
           "Normal"
          ],
          [
           0,
           "Normal"
          ],
          [
           0,
           "Normal"
          ],
          [
           0,
           "Normal"
          ],
          [
           0,
           "Normal"
          ],
          [
           0,
           "Normal"
          ],
          [
           0,
           "Normal"
          ],
          [
           0,
           "Normal"
          ],
          [
           0,
           "Normal"
          ],
          [
           0,
           "Normal"
          ],
          [
           0,
           "Normal"
          ],
          [
           0,
           "Normal"
          ],
          [
           0,
           "Normal"
          ],
          [
           0,
           "Normal"
          ],
          [
           0,
           "Normal"
          ],
          [
           0,
           "Normal"
          ],
          [
           0,
           "Normal"
          ],
          [
           0,
           "Normal"
          ],
          [
           0,
           "Normal"
          ],
          [
           0,
           "Normal"
          ],
          [
           0,
           "Normal"
          ],
          [
           0,
           "Normal"
          ],
          [
           0,
           "Normal"
          ],
          [
           0,
           "Normal"
          ],
          [
           0,
           "Normal"
          ],
          [
           0,
           "Normal"
          ],
          [
           0,
           "Normal"
          ],
          [
           0,
           "Normal"
          ],
          [
           0,
           "Normal"
          ],
          [
           0,
           "Normal"
          ],
          [
           0,
           "Normal"
          ],
          [
           0,
           "Normal"
          ],
          [
           0,
           "Normal"
          ],
          [
           0,
           "Normal"
          ],
          [
           0,
           "Normal"
          ],
          [
           0,
           "Normal"
          ],
          [
           0,
           "Normal"
          ],
          [
           0,
           "Normal"
          ],
          [
           0,
           "Normal"
          ]
         ],
         "hovertemplate": "Rainfall Category=%{customdata[1]}<br>Year=%{x}<br>Annual Rainfall (mm)=%{y}<br>Rainfall_Cluster=%{customdata[0]}<extra></extra>",
         "legendgroup": "Normal",
         "marker": {
          "color": "rgb(141,160,203)",
          "symbol": "circle"
         },
         "mode": "markers",
         "name": "Normal",
         "orientation": "v",
         "showlegend": true,
         "type": "scatter",
         "x": [
          1906,
          1908,
          1909,
          1910,
          1914,
          1921,
          1922,
          1923,
          1926,
          1934,
          1935,
          1939,
          1942,
          1945,
          1947,
          1950,
          1953,
          1954,
          1957,
          1960,
          1962,
          1964,
          1967,
          1969,
          1970,
          1973,
          1976,
          1978,
          1980,
          1981,
          1984,
          1989,
          1991,
          1992,
          1996,
          2003,
          2006,
          2007,
          2008,
          2011,
          2012,
          2013
         ],
         "xaxis": "x",
         "y": [
          1144.1,
          1096.6,
          1158.1,
          1200.3,
          1214.3,
          1240.2,
          1211.9,
          1176.3,
          1246.8,
          1227.6,
          1143.4,
          1125.9,
          1292.7,
          1225.8,
          1236.6,
          1172.5,
          1222.9,
          1180.3,
          1178.2,
          1149,
          1196.4,
          1235.1,
          1148.3,
          1147.7,
          1247,
          1214,
          1124.8,
          1239.3,
          1189.5,
          1171.6,
          1155.9,
          1122.4,
          1159.9,
          1121.3,
          1181.8,
          1174.5,
          1199.4,
          1215.6,
          1132.1,
          1110.1,
          1073.5,
          1216.2
         ],
         "yaxis": "y"
        }
       ],
       "layout": {
        "annotations": [
         {
          "align": "center",
          "font": {
           "color": "gray",
           "size": 14
          },
          "showarrow": false,
          "text": "<b>Dry, Wet, and Normal</b> years are classified based on annual rainfall patterns.<br><b>Wet years</b> (high rainfall) were more frequent in the early to mid-20th century.<br><b>Dry years</b> are more common in the late 20th and early 21st century.<br>The <b>normal rainfall</b> category spans all decades but has a higher density around the mean.",
          "x": 0.5,
          "xref": "paper",
          "y": -0.34,
          "yref": "paper"
         }
        ],
        "height": 600,
        "legend": {
         "title": {
          "text": "Rainfall Category"
         },
         "tracegroupgap": 0
        },
        "margin": {
         "b": 150,
         "l": 80,
         "r": 50,
         "t": 100
        },
        "template": {
         "data": {
          "bar": [
           {
            "error_x": {
             "color": "#2a3f5f"
            },
            "error_y": {
             "color": "#2a3f5f"
            },
            "marker": {
             "line": {
              "color": "white",
              "width": 0.5
             },
             "pattern": {
              "fillmode": "overlay",
              "size": 10,
              "solidity": 0.2
             }
            },
            "type": "bar"
           }
          ],
          "barpolar": [
           {
            "marker": {
             "line": {
              "color": "white",
              "width": 0.5
             },
             "pattern": {
              "fillmode": "overlay",
              "size": 10,
              "solidity": 0.2
             }
            },
            "type": "barpolar"
           }
          ],
          "carpet": [
           {
            "aaxis": {
             "endlinecolor": "#2a3f5f",
             "gridcolor": "#C8D4E3",
             "linecolor": "#C8D4E3",
             "minorgridcolor": "#C8D4E3",
             "startlinecolor": "#2a3f5f"
            },
            "baxis": {
             "endlinecolor": "#2a3f5f",
             "gridcolor": "#C8D4E3",
             "linecolor": "#C8D4E3",
             "minorgridcolor": "#C8D4E3",
             "startlinecolor": "#2a3f5f"
            },
            "type": "carpet"
           }
          ],
          "choropleth": [
           {
            "colorbar": {
             "outlinewidth": 0,
             "ticks": ""
            },
            "type": "choropleth"
           }
          ],
          "contour": [
           {
            "colorbar": {
             "outlinewidth": 0,
             "ticks": ""
            },
            "colorscale": [
             [
              0,
              "#0d0887"
             ],
             [
              0.1111111111111111,
              "#46039f"
             ],
             [
              0.2222222222222222,
              "#7201a8"
             ],
             [
              0.3333333333333333,
              "#9c179e"
             ],
             [
              0.4444444444444444,
              "#bd3786"
             ],
             [
              0.5555555555555556,
              "#d8576b"
             ],
             [
              0.6666666666666666,
              "#ed7953"
             ],
             [
              0.7777777777777778,
              "#fb9f3a"
             ],
             [
              0.8888888888888888,
              "#fdca26"
             ],
             [
              1,
              "#f0f921"
             ]
            ],
            "type": "contour"
           }
          ],
          "contourcarpet": [
           {
            "colorbar": {
             "outlinewidth": 0,
             "ticks": ""
            },
            "type": "contourcarpet"
           }
          ],
          "heatmap": [
           {
            "colorbar": {
             "outlinewidth": 0,
             "ticks": ""
            },
            "colorscale": [
             [
              0,
              "#0d0887"
             ],
             [
              0.1111111111111111,
              "#46039f"
             ],
             [
              0.2222222222222222,
              "#7201a8"
             ],
             [
              0.3333333333333333,
              "#9c179e"
             ],
             [
              0.4444444444444444,
              "#bd3786"
             ],
             [
              0.5555555555555556,
              "#d8576b"
             ],
             [
              0.6666666666666666,
              "#ed7953"
             ],
             [
              0.7777777777777778,
              "#fb9f3a"
             ],
             [
              0.8888888888888888,
              "#fdca26"
             ],
             [
              1,
              "#f0f921"
             ]
            ],
            "type": "heatmap"
           }
          ],
          "heatmapgl": [
           {
            "colorbar": {
             "outlinewidth": 0,
             "ticks": ""
            },
            "colorscale": [
             [
              0,
              "#0d0887"
             ],
             [
              0.1111111111111111,
              "#46039f"
             ],
             [
              0.2222222222222222,
              "#7201a8"
             ],
             [
              0.3333333333333333,
              "#9c179e"
             ],
             [
              0.4444444444444444,
              "#bd3786"
             ],
             [
              0.5555555555555556,
              "#d8576b"
             ],
             [
              0.6666666666666666,
              "#ed7953"
             ],
             [
              0.7777777777777778,
              "#fb9f3a"
             ],
             [
              0.8888888888888888,
              "#fdca26"
             ],
             [
              1,
              "#f0f921"
             ]
            ],
            "type": "heatmapgl"
           }
          ],
          "histogram": [
           {
            "marker": {
             "pattern": {
              "fillmode": "overlay",
              "size": 10,
              "solidity": 0.2
             }
            },
            "type": "histogram"
           }
          ],
          "histogram2d": [
           {
            "colorbar": {
             "outlinewidth": 0,
             "ticks": ""
            },
            "colorscale": [
             [
              0,
              "#0d0887"
             ],
             [
              0.1111111111111111,
              "#46039f"
             ],
             [
              0.2222222222222222,
              "#7201a8"
             ],
             [
              0.3333333333333333,
              "#9c179e"
             ],
             [
              0.4444444444444444,
              "#bd3786"
             ],
             [
              0.5555555555555556,
              "#d8576b"
             ],
             [
              0.6666666666666666,
              "#ed7953"
             ],
             [
              0.7777777777777778,
              "#fb9f3a"
             ],
             [
              0.8888888888888888,
              "#fdca26"
             ],
             [
              1,
              "#f0f921"
             ]
            ],
            "type": "histogram2d"
           }
          ],
          "histogram2dcontour": [
           {
            "colorbar": {
             "outlinewidth": 0,
             "ticks": ""
            },
            "colorscale": [
             [
              0,
              "#0d0887"
             ],
             [
              0.1111111111111111,
              "#46039f"
             ],
             [
              0.2222222222222222,
              "#7201a8"
             ],
             [
              0.3333333333333333,
              "#9c179e"
             ],
             [
              0.4444444444444444,
              "#bd3786"
             ],
             [
              0.5555555555555556,
              "#d8576b"
             ],
             [
              0.6666666666666666,
              "#ed7953"
             ],
             [
              0.7777777777777778,
              "#fb9f3a"
             ],
             [
              0.8888888888888888,
              "#fdca26"
             ],
             [
              1,
              "#f0f921"
             ]
            ],
            "type": "histogram2dcontour"
           }
          ],
          "mesh3d": [
           {
            "colorbar": {
             "outlinewidth": 0,
             "ticks": ""
            },
            "type": "mesh3d"
           }
          ],
          "parcoords": [
           {
            "line": {
             "colorbar": {
              "outlinewidth": 0,
              "ticks": ""
             }
            },
            "type": "parcoords"
           }
          ],
          "pie": [
           {
            "automargin": true,
            "type": "pie"
           }
          ],
          "scatter": [
           {
            "fillpattern": {
             "fillmode": "overlay",
             "size": 10,
             "solidity": 0.2
            },
            "type": "scatter"
           }
          ],
          "scatter3d": [
           {
            "line": {
             "colorbar": {
              "outlinewidth": 0,
              "ticks": ""
             }
            },
            "marker": {
             "colorbar": {
              "outlinewidth": 0,
              "ticks": ""
             }
            },
            "type": "scatter3d"
           }
          ],
          "scattercarpet": [
           {
            "marker": {
             "colorbar": {
              "outlinewidth": 0,
              "ticks": ""
             }
            },
            "type": "scattercarpet"
           }
          ],
          "scattergeo": [
           {
            "marker": {
             "colorbar": {
              "outlinewidth": 0,
              "ticks": ""
             }
            },
            "type": "scattergeo"
           }
          ],
          "scattergl": [
           {
            "marker": {
             "colorbar": {
              "outlinewidth": 0,
              "ticks": ""
             }
            },
            "type": "scattergl"
           }
          ],
          "scattermapbox": [
           {
            "marker": {
             "colorbar": {
              "outlinewidth": 0,
              "ticks": ""
             }
            },
            "type": "scattermapbox"
           }
          ],
          "scatterpolar": [
           {
            "marker": {
             "colorbar": {
              "outlinewidth": 0,
              "ticks": ""
             }
            },
            "type": "scatterpolar"
           }
          ],
          "scatterpolargl": [
           {
            "marker": {
             "colorbar": {
              "outlinewidth": 0,
              "ticks": ""
             }
            },
            "type": "scatterpolargl"
           }
          ],
          "scatterternary": [
           {
            "marker": {
             "colorbar": {
              "outlinewidth": 0,
              "ticks": ""
             }
            },
            "type": "scatterternary"
           }
          ],
          "surface": [
           {
            "colorbar": {
             "outlinewidth": 0,
             "ticks": ""
            },
            "colorscale": [
             [
              0,
              "#0d0887"
             ],
             [
              0.1111111111111111,
              "#46039f"
             ],
             [
              0.2222222222222222,
              "#7201a8"
             ],
             [
              0.3333333333333333,
              "#9c179e"
             ],
             [
              0.4444444444444444,
              "#bd3786"
             ],
             [
              0.5555555555555556,
              "#d8576b"
             ],
             [
              0.6666666666666666,
              "#ed7953"
             ],
             [
              0.7777777777777778,
              "#fb9f3a"
             ],
             [
              0.8888888888888888,
              "#fdca26"
             ],
             [
              1,
              "#f0f921"
             ]
            ],
            "type": "surface"
           }
          ],
          "table": [
           {
            "cells": {
             "fill": {
              "color": "#EBF0F8"
             },
             "line": {
              "color": "white"
             }
            },
            "header": {
             "fill": {
              "color": "#C8D4E3"
             },
             "line": {
              "color": "white"
             }
            },
            "type": "table"
           }
          ]
         },
         "layout": {
          "annotationdefaults": {
           "arrowcolor": "#2a3f5f",
           "arrowhead": 0,
           "arrowwidth": 1
          },
          "autotypenumbers": "strict",
          "coloraxis": {
           "colorbar": {
            "outlinewidth": 0,
            "ticks": ""
           }
          },
          "colorscale": {
           "diverging": [
            [
             0,
             "#8e0152"
            ],
            [
             0.1,
             "#c51b7d"
            ],
            [
             0.2,
             "#de77ae"
            ],
            [
             0.3,
             "#f1b6da"
            ],
            [
             0.4,
             "#fde0ef"
            ],
            [
             0.5,
             "#f7f7f7"
            ],
            [
             0.6,
             "#e6f5d0"
            ],
            [
             0.7,
             "#b8e186"
            ],
            [
             0.8,
             "#7fbc41"
            ],
            [
             0.9,
             "#4d9221"
            ],
            [
             1,
             "#276419"
            ]
           ],
           "sequential": [
            [
             0,
             "#0d0887"
            ],
            [
             0.1111111111111111,
             "#46039f"
            ],
            [
             0.2222222222222222,
             "#7201a8"
            ],
            [
             0.3333333333333333,
             "#9c179e"
            ],
            [
             0.4444444444444444,
             "#bd3786"
            ],
            [
             0.5555555555555556,
             "#d8576b"
            ],
            [
             0.6666666666666666,
             "#ed7953"
            ],
            [
             0.7777777777777778,
             "#fb9f3a"
            ],
            [
             0.8888888888888888,
             "#fdca26"
            ],
            [
             1,
             "#f0f921"
            ]
           ],
           "sequentialminus": [
            [
             0,
             "#0d0887"
            ],
            [
             0.1111111111111111,
             "#46039f"
            ],
            [
             0.2222222222222222,
             "#7201a8"
            ],
            [
             0.3333333333333333,
             "#9c179e"
            ],
            [
             0.4444444444444444,
             "#bd3786"
            ],
            [
             0.5555555555555556,
             "#d8576b"
            ],
            [
             0.6666666666666666,
             "#ed7953"
            ],
            [
             0.7777777777777778,
             "#fb9f3a"
            ],
            [
             0.8888888888888888,
             "#fdca26"
            ],
            [
             1,
             "#f0f921"
            ]
           ]
          },
          "colorway": [
           "#636efa",
           "#EF553B",
           "#00cc96",
           "#ab63fa",
           "#FFA15A",
           "#19d3f3",
           "#FF6692",
           "#B6E880",
           "#FF97FF",
           "#FECB52"
          ],
          "font": {
           "color": "#2a3f5f"
          },
          "geo": {
           "bgcolor": "white",
           "lakecolor": "white",
           "landcolor": "white",
           "showlakes": true,
           "showland": true,
           "subunitcolor": "#C8D4E3"
          },
          "hoverlabel": {
           "align": "left"
          },
          "hovermode": "closest",
          "mapbox": {
           "style": "light"
          },
          "paper_bgcolor": "white",
          "plot_bgcolor": "white",
          "polar": {
           "angularaxis": {
            "gridcolor": "#EBF0F8",
            "linecolor": "#EBF0F8",
            "ticks": ""
           },
           "bgcolor": "white",
           "radialaxis": {
            "gridcolor": "#EBF0F8",
            "linecolor": "#EBF0F8",
            "ticks": ""
           }
          },
          "scene": {
           "xaxis": {
            "backgroundcolor": "white",
            "gridcolor": "#DFE8F3",
            "gridwidth": 2,
            "linecolor": "#EBF0F8",
            "showbackground": true,
            "ticks": "",
            "zerolinecolor": "#EBF0F8"
           },
           "yaxis": {
            "backgroundcolor": "white",
            "gridcolor": "#DFE8F3",
            "gridwidth": 2,
            "linecolor": "#EBF0F8",
            "showbackground": true,
            "ticks": "",
            "zerolinecolor": "#EBF0F8"
           },
           "zaxis": {
            "backgroundcolor": "white",
            "gridcolor": "#DFE8F3",
            "gridwidth": 2,
            "linecolor": "#EBF0F8",
            "showbackground": true,
            "ticks": "",
            "zerolinecolor": "#EBF0F8"
           }
          },
          "shapedefaults": {
           "line": {
            "color": "#2a3f5f"
           }
          },
          "ternary": {
           "aaxis": {
            "gridcolor": "#DFE8F3",
            "linecolor": "#A2B1C6",
            "ticks": ""
           },
           "baxis": {
            "gridcolor": "#DFE8F3",
            "linecolor": "#A2B1C6",
            "ticks": ""
           },
           "bgcolor": "white",
           "caxis": {
            "gridcolor": "#DFE8F3",
            "linecolor": "#A2B1C6",
            "ticks": ""
           }
          },
          "title": {
           "x": 0.05
          },
          "xaxis": {
           "automargin": true,
           "gridcolor": "#EBF0F8",
           "linecolor": "#EBF0F8",
           "ticks": "",
           "title": {
            "standoff": 15
           },
           "zerolinecolor": "#EBF0F8",
           "zerolinewidth": 2
          },
          "yaxis": {
           "automargin": true,
           "gridcolor": "#EBF0F8",
           "linecolor": "#EBF0F8",
           "ticks": "",
           "title": {
            "standoff": 15
           },
           "zerolinecolor": "#EBF0F8",
           "zerolinewidth": 2
          }
         }
        },
        "title": {
         "text": "<b>Clustering of Years Based on Rainfall Patterns</b>"
        },
        "width": 900,
        "xaxis": {
         "anchor": "y",
         "domain": [
          0,
          1
         ],
         "title": {
          "text": "Year"
         }
        },
        "yaxis": {
         "anchor": "x",
         "domain": [
          0,
          1
         ],
         "title": {
          "text": "Annual Rainfall (mm)"
         }
        }
       }
      }
     },
     "metadata": {},
     "output_type": "display_data"
    }
   ],
   "source": [
    "import plotly.express as px\n",
    "from sklearn.cluster import KMeans\n",
    "from sklearn.preprocessing import StandardScaler\n",
    "\n",
    "# Prepare data for clustering\n",
    "rainfall_features = df[['Jan-Feb', 'Mar-May', 'Jun-Sep', 'Oct-Dec', 'ANNUAL']]\n",
    "scaler = StandardScaler()\n",
    "scaled_features = scaler.fit_transform(rainfall_features)\n",
    "\n",
    "# Perform k-means clustering\n",
    "kmeans = KMeans(n_clusters=3, random_state=42, n_init=10)\n",
    "df['Rainfall_Cluster'] = kmeans.fit_predict(scaled_features)\n",
    "\n",
    "# Map cluster labels to categories (e.g., Dry, Normal, Wet)\n",
    "cluster_labels = {0: 'Normal', 1: 'Dry', 2: 'Wet'}\n",
    "df['Rainfall_Category'] = df['Rainfall_Cluster'].map(cluster_labels)\n",
    "\n",
    "# Create scatter plot\n",
    "fig = px.scatter(\n",
    "    df,\n",
    "    x='YEAR',\n",
    "    y='ANNUAL',\n",
    "    color='Rainfall_Category',\n",
    "    title='<b>Clustering of Years Based on Rainfall Patterns</b>',\n",
    "    labels={'YEAR': 'Year', 'ANNUAL': 'Annual Rainfall (mm)', 'Rainfall_Category': 'Rainfall Category'},\n",
    "    color_discrete_sequence=px.colors.qualitative.Set2,\n",
    "    hover_data={'Rainfall_Cluster': True, 'Rainfall_Category': True}\n",
    ")\n",
    "\n",
    "# Update layout for better visibility\n",
    "fig.update_layout(\n",
    "    template='plotly_white',\n",
    "    legend_title='Rainfall Category',\n",
    "    height=600, \n",
    "    width=900,   \n",
    "    margin=dict(l=80, r=50, t=100, b=150)  \n",
    ")\n",
    "\n",
    "# Add subtitle \n",
    "fig.add_annotation(\n",
    "    text=\"<b>Dry, Wet, and Normal</b> years are classified based on annual rainfall patterns.<br>\"\n",
    "         \"<b>Wet years</b> (high rainfall) were more frequent in the early to mid-20th century.<br>\"\n",
    "         \"<b>Dry years</b> are more common in the late 20th and early 21st century.<br>\"\n",
    "         \"The <b>normal rainfall</b> category spans all decades but has a higher density around the mean.\",\n",
    "    showarrow=False,\n",
    "    xref=\"paper\",\n",
    "    yref=\"paper\",\n",
    "    x=0.5,\n",
    "    y=-0.34,  \n",
    "    font=dict(size=14, color=\"gray\"),\n",
    "    align=\"center\"\n",
    ")\n",
    "\n",
    "# Show plot\n",
    "fig.show()\n"
   ]
  },
  {
   "cell_type": "markdown",
   "metadata": {},
   "source": [
    "Forecasting Future Rainfall"
   ]
  },
  {
   "cell_type": "code",
   "execution_count": null,
   "metadata": {},
   "outputs": [
    {
     "name": "stderr",
     "output_type": "stream",
     "text": [
      "07:39:32 - cmdstanpy - INFO - Chain [1] start processing\n",
      "07:39:32 - cmdstanpy - INFO - Chain [1] done processing\n"
     ]
    },
    {
     "data": {
      "application/vnd.plotly.v1+json": {
       "config": {
        "plotlyServerURL": "https://plot.ly"
       },
       "data": [
        {
         "marker": {
          "color": "black",
          "size": 4
         },
         "mode": "markers",
         "name": "Actual",
         "type": "scatter",
         "x": [
          "1901-01-01T00:00:00",
          "1902-01-01T00:00:00",
          "1903-01-01T00:00:00",
          "1904-01-01T00:00:00",
          "1905-01-01T00:00:00",
          "1906-01-01T00:00:00",
          "1907-01-01T00:00:00",
          "1908-01-01T00:00:00",
          "1909-01-01T00:00:00",
          "1910-01-01T00:00:00",
          "1911-01-01T00:00:00",
          "1912-01-01T00:00:00",
          "1913-01-01T00:00:00",
          "1914-01-01T00:00:00",
          "1915-01-01T00:00:00",
          "1916-01-01T00:00:00",
          "1917-01-01T00:00:00",
          "1918-01-01T00:00:00",
          "1919-01-01T00:00:00",
          "1920-01-01T00:00:00",
          "1921-01-01T00:00:00",
          "1922-01-01T00:00:00",
          "1923-01-01T00:00:00",
          "1924-01-01T00:00:00",
          "1925-01-01T00:00:00",
          "1926-01-01T00:00:00",
          "1927-01-01T00:00:00",
          "1928-01-01T00:00:00",
          "1929-01-01T00:00:00",
          "1930-01-01T00:00:00",
          "1931-01-01T00:00:00",
          "1932-01-01T00:00:00",
          "1933-01-01T00:00:00",
          "1934-01-01T00:00:00",
          "1935-01-01T00:00:00",
          "1936-01-01T00:00:00",
          "1937-01-01T00:00:00",
          "1938-01-01T00:00:00",
          "1939-01-01T00:00:00",
          "1940-01-01T00:00:00",
          "1941-01-01T00:00:00",
          "1942-01-01T00:00:00",
          "1943-01-01T00:00:00",
          "1944-01-01T00:00:00",
          "1945-01-01T00:00:00",
          "1946-01-01T00:00:00",
          "1947-01-01T00:00:00",
          "1948-01-01T00:00:00",
          "1949-01-01T00:00:00",
          "1950-01-01T00:00:00",
          "1951-01-01T00:00:00",
          "1952-01-01T00:00:00",
          "1953-01-01T00:00:00",
          "1954-01-01T00:00:00",
          "1955-01-01T00:00:00",
          "1956-01-01T00:00:00",
          "1957-01-01T00:00:00",
          "1958-01-01T00:00:00",
          "1959-01-01T00:00:00",
          "1960-01-01T00:00:00",
          "1961-01-01T00:00:00",
          "1962-01-01T00:00:00",
          "1963-01-01T00:00:00",
          "1964-01-01T00:00:00",
          "1965-01-01T00:00:00",
          "1966-01-01T00:00:00",
          "1967-01-01T00:00:00",
          "1968-01-01T00:00:00",
          "1969-01-01T00:00:00",
          "1970-01-01T00:00:00",
          "1971-01-01T00:00:00",
          "1972-01-01T00:00:00",
          "1973-01-01T00:00:00",
          "1974-01-01T00:00:00",
          "1975-01-01T00:00:00",
          "1976-01-01T00:00:00",
          "1977-01-01T00:00:00",
          "1978-01-01T00:00:00",
          "1979-01-01T00:00:00",
          "1980-01-01T00:00:00",
          "1981-01-01T00:00:00",
          "1982-01-01T00:00:00",
          "1983-01-01T00:00:00",
          "1984-01-01T00:00:00",
          "1985-01-01T00:00:00",
          "1986-01-01T00:00:00",
          "1987-01-01T00:00:00",
          "1988-01-01T00:00:00",
          "1989-01-01T00:00:00",
          "1990-01-01T00:00:00",
          "1991-01-01T00:00:00",
          "1992-01-01T00:00:00",
          "1993-01-01T00:00:00",
          "1994-01-01T00:00:00",
          "1995-01-01T00:00:00",
          "1996-01-01T00:00:00",
          "1997-01-01T00:00:00",
          "1998-01-01T00:00:00",
          "1999-01-01T00:00:00",
          "2000-01-01T00:00:00",
          "2001-01-01T00:00:00",
          "2002-01-01T00:00:00",
          "2003-01-01T00:00:00",
          "2004-01-01T00:00:00",
          "2005-01-01T00:00:00",
          "2006-01-01T00:00:00",
          "2007-01-01T00:00:00",
          "2008-01-01T00:00:00",
          "2009-01-01T00:00:00",
          "2010-01-01T00:00:00",
          "2011-01-01T00:00:00",
          "2012-01-01T00:00:00",
          "2013-01-01T00:00:00",
          "2014-01-01T00:00:00",
          "2015-01-01T00:00:00"
         ],
         "y": [
          1032.3,
          1030.2,
          1190.5,
          1019.8,
          975.3,
          1144.1,
          1039.7,
          1096.6,
          1158.1,
          1200.3,
          1047.5,
          1078.1,
          1068.9,
          1214.3,
          1137.2,
          1337.1,
          1480.3,
          1026.2,
          1308.9,
          1047.9,
          1240.2,
          1211.9,
          1176.3,
          1268.3,
          1210.4,
          1246.8,
          1262.6,
          1218.4,
          1208.5,
          1209.4,
          1314.6,
          1218.9,
          1393.5,
          1227.6,
          1143.4,
          1341.7,
          1218.1,
          1306.7,
          1125.9,
          1214.6,
          1080.9,
          1292.7,
          1282.1,
          1319.1,
          1225.8,
          1332.6,
          1236.6,
          1341.9,
          1272.4,
          1172.5,
          1061.3,
          1108.2,
          1222.9,
          1180.3,
          1298.3,
          1386.2,
          1178.2,
          1331,
          1382.1,
          1149,
          1403,
          1196.4,
          1210.2,
          1235.1,
          938.4,
          1064,
          1148.3,
          1054.2,
          1147.7,
          1247,
          1218,
          948.5,
          1214,
          1043.7,
          1290.2,
          1124.8,
          1270.4,
          1239.3,
          1023.4,
          1189.5,
          1171.6,
          1086.8,
          1331.5,
          1155.9,
          1140,
          1126.6,
          1078.9,
          1351,
          1122.4,
          1400.6,
          1159.9,
          1121.3,
          1201.9,
          1295.6,
          1243.6,
          1181.8,
          1171.4,
          1243.5,
          1132,
          1050.4,
          1083.3,
          920.8,
          1174.5,
          1071.3,
          1232.5,
          1199.4,
          1215.6,
          1132.1,
          959.3,
          1200.5,
          1110.1,
          1073.5,
          1216.2,
          1033.7,
          1093.2
         ]
        },
        {
         "hoverinfo": "skip",
         "line": {
          "width": 0
         },
         "mode": "lines",
         "type": "scatter",
         "x": [
          "1901-01-01T00:00:00",
          "1902-01-01T00:00:00",
          "1903-01-01T00:00:00",
          "1904-01-01T00:00:00",
          "1905-01-01T00:00:00",
          "1906-01-01T00:00:00",
          "1907-01-01T00:00:00",
          "1908-01-01T00:00:00",
          "1909-01-01T00:00:00",
          "1910-01-01T00:00:00",
          "1911-01-01T00:00:00",
          "1912-01-01T00:00:00",
          "1913-01-01T00:00:00",
          "1914-01-01T00:00:00",
          "1915-01-01T00:00:00",
          "1916-01-01T00:00:00",
          "1917-01-01T00:00:00",
          "1918-01-01T00:00:00",
          "1919-01-01T00:00:00",
          "1920-01-01T00:00:00",
          "1921-01-01T00:00:00",
          "1922-01-01T00:00:00",
          "1923-01-01T00:00:00",
          "1924-01-01T00:00:00",
          "1925-01-01T00:00:00",
          "1926-01-01T00:00:00",
          "1927-01-01T00:00:00",
          "1928-01-01T00:00:00",
          "1929-01-01T00:00:00",
          "1930-01-01T00:00:00",
          "1931-01-01T00:00:00",
          "1932-01-01T00:00:00",
          "1933-01-01T00:00:00",
          "1934-01-01T00:00:00",
          "1935-01-01T00:00:00",
          "1936-01-01T00:00:00",
          "1937-01-01T00:00:00",
          "1938-01-01T00:00:00",
          "1939-01-01T00:00:00",
          "1940-01-01T00:00:00",
          "1941-01-01T00:00:00",
          "1942-01-01T00:00:00",
          "1943-01-01T00:00:00",
          "1944-01-01T00:00:00",
          "1945-01-01T00:00:00",
          "1946-01-01T00:00:00",
          "1947-01-01T00:00:00",
          "1948-01-01T00:00:00",
          "1949-01-01T00:00:00",
          "1950-01-01T00:00:00",
          "1951-01-01T00:00:00",
          "1952-01-01T00:00:00",
          "1953-01-01T00:00:00",
          "1954-01-01T00:00:00",
          "1955-01-01T00:00:00",
          "1956-01-01T00:00:00",
          "1957-01-01T00:00:00",
          "1958-01-01T00:00:00",
          "1959-01-01T00:00:00",
          "1960-01-01T00:00:00",
          "1961-01-01T00:00:00",
          "1962-01-01T00:00:00",
          "1963-01-01T00:00:00",
          "1964-01-01T00:00:00",
          "1965-01-01T00:00:00",
          "1966-01-01T00:00:00",
          "1967-01-01T00:00:00",
          "1968-01-01T00:00:00",
          "1969-01-01T00:00:00",
          "1970-01-01T00:00:00",
          "1971-01-01T00:00:00",
          "1972-01-01T00:00:00",
          "1973-01-01T00:00:00",
          "1974-01-01T00:00:00",
          "1975-01-01T00:00:00",
          "1976-01-01T00:00:00",
          "1977-01-01T00:00:00",
          "1978-01-01T00:00:00",
          "1979-01-01T00:00:00",
          "1980-01-01T00:00:00",
          "1981-01-01T00:00:00",
          "1982-01-01T00:00:00",
          "1983-01-01T00:00:00",
          "1984-01-01T00:00:00",
          "1985-01-01T00:00:00",
          "1986-01-01T00:00:00",
          "1987-01-01T00:00:00",
          "1988-01-01T00:00:00",
          "1989-01-01T00:00:00",
          "1990-01-01T00:00:00",
          "1991-01-01T00:00:00",
          "1992-01-01T00:00:00",
          "1993-01-01T00:00:00",
          "1994-01-01T00:00:00",
          "1995-01-01T00:00:00",
          "1996-01-01T00:00:00",
          "1997-01-01T00:00:00",
          "1998-01-01T00:00:00",
          "1999-01-01T00:00:00",
          "2000-01-01T00:00:00",
          "2001-01-01T00:00:00",
          "2002-01-01T00:00:00",
          "2003-01-01T00:00:00",
          "2004-01-01T00:00:00",
          "2005-01-01T00:00:00",
          "2006-01-01T00:00:00",
          "2007-01-01T00:00:00",
          "2008-01-01T00:00:00",
          "2009-01-01T00:00:00",
          "2010-01-01T00:00:00",
          "2011-01-01T00:00:00",
          "2012-01-01T00:00:00",
          "2013-01-01T00:00:00",
          "2014-01-01T00:00:00",
          "2015-01-01T00:00:00",
          "2015-12-31T00:00:00",
          "2016-12-31T00:00:00",
          "2017-12-31T00:00:00",
          "2018-12-31T00:00:00",
          "2019-12-31T00:00:00",
          "2020-12-31T00:00:00",
          "2021-12-31T00:00:00",
          "2022-12-31T00:00:00",
          "2023-12-31T00:00:00",
          "2024-12-31T00:00:00",
          "2025-12-31T00:00:00",
          "2026-12-31T00:00:00",
          "2027-12-31T00:00:00",
          "2028-12-31T00:00:00",
          "2029-12-31T00:00:00",
          "2030-12-31T00:00:00",
          "2031-12-31T00:00:00",
          "2032-12-31T00:00:00",
          "2033-12-31T00:00:00",
          "2034-12-31T00:00:00"
         ],
         "y": [
          1024.1019155518782,
          1019.8709296282057,
          1014.166333918544,
          1008.58800360766,
          1024.8097505907758,
          1024.6344280260894,
          1017.4252379669739,
          1023.9738136190928,
          1038.2122250994346,
          1039.9092027549823,
          1024.6113964318158,
          1024.6870573193735,
          1044.7117191421455,
          1038.9046675737818,
          1038.4128298441324,
          1036.812725158448,
          1058.4723952793,
          1052.849030492885,
          1048.9722791703273,
          1041.7373529270592,
          1055.7267498632716,
          1059.5044199730082,
          1048.3886856605848,
          1053.2484861406858,
          1064.9602424759607,
          1069.9641158688291,
          1054.2635849819378,
          1056.0508002541528,
          1080.0874073367286,
          1076.5668251571706,
          1068.1774636511384,
          1077.047026663672,
          1070.0397829372228,
          1084.6737605367632,
          1076.476448807239,
          1073.8675315218613,
          1078.8689591137047,
          1081.1468994722268,
          1092.0235907941146,
          1083.4654264972241,
          1094.0857737446438,
          1095.0261214694087,
          1087.811992021554,
          1083.8466426115094,
          1082.240216295121,
          1089.2098986469605,
          1077.1432854938032,
          1085.0988177426264,
          1099.2676553978736,
          1084.1182809364684,
          1074.1817775913323,
          1084.535055694475,
          1089.5098117017626,
          1088.5070829340536,
          1078.2355001025694,
          1079.2471080803882,
          1091.6740450161044,
          1071.4705668410634,
          1079.949339034991,
          1063.2612197492365,
          1078.8940477316141,
          1081.7191560831113,
          1063.2044200053956,
          1076.0317301914413,
          1072.9005297460287,
          1070.2442615752868,
          1057.7333119941497,
          1058.1166855623571,
          1064.4932393516901,
          1067.634509640968,
          1067.8840155752214,
          1049.6996332990104,
          1061.0785606808129,
          1061.7529809129471,
          1050.6973553985108,
          1045.6184461461953,
          1055.2579897968606,
          1045.3890189328308,
          1050.9130653238656,
          1045.8476113918746,
          1054.2169775582634,
          1052.2999219564158,
          1032.370845730204,
          1032.5511420528424,
          1052.2322625358001,
          1035.591490390963,
          1044.608417805011,
          1041.7846508613336,
          1037.2975307824722,
          1041.0693713811415,
          1035.5460981299138,
          1032.09358884894,
          1028.5277470878543,
          1034.5334525182143,
          1026.703024182233,
          1023.1123315389533,
          1019.9306770953058,
          1028.5295857508017,
          1024.8634119484834,
          1011.3138308567228,
          1025.5948400154941,
          1013.0324872738614,
          1012.7372148169745,
          1011.2478186156253,
          1013.3913153759939,
          1014.284464221751,
          1005.4002250649771,
          1005.8622738668824,
          1015.8927205120241,
          1024.2765105156016,
          1011.3639882896503,
          1003.0429252672212,
          1006.0680433024959,
          1014.8528323764624,
          990.5755541593079,
          983.3666249270242,
          990.1819661900811,
          995.2267174949981,
          983.3301182905611,
          973.872661185868,
          986.4370609181236,
          975.7922950496776,
          975.4361449982799,
          962.0113952934438,
          975.3530224800448,
          976.7236214188725,
          970.6849591625321,
          974.1965423281188,
          973.996527424099,
          977.7731916525324,
          970.212971035365,
          951.472566799015,
          972.5364988831809,
          961.8822409785162,
          957.5772125694285
         ]
        },
        {
         "fill": "tonexty",
         "fillcolor": "rgba(0, 114, 178, 0.2)",
         "line": {
          "color": "#0072B2",
          "width": 2
         },
         "mode": "lines",
         "name": "Predicted",
         "type": "scatter",
         "x": [
          "1901-01-01T00:00:00",
          "1902-01-01T00:00:00",
          "1903-01-01T00:00:00",
          "1904-01-01T00:00:00",
          "1905-01-01T00:00:00",
          "1906-01-01T00:00:00",
          "1907-01-01T00:00:00",
          "1908-01-01T00:00:00",
          "1909-01-01T00:00:00",
          "1910-01-01T00:00:00",
          "1911-01-01T00:00:00",
          "1912-01-01T00:00:00",
          "1913-01-01T00:00:00",
          "1914-01-01T00:00:00",
          "1915-01-01T00:00:00",
          "1916-01-01T00:00:00",
          "1917-01-01T00:00:00",
          "1918-01-01T00:00:00",
          "1919-01-01T00:00:00",
          "1920-01-01T00:00:00",
          "1921-01-01T00:00:00",
          "1922-01-01T00:00:00",
          "1923-01-01T00:00:00",
          "1924-01-01T00:00:00",
          "1925-01-01T00:00:00",
          "1926-01-01T00:00:00",
          "1927-01-01T00:00:00",
          "1928-01-01T00:00:00",
          "1929-01-01T00:00:00",
          "1930-01-01T00:00:00",
          "1931-01-01T00:00:00",
          "1932-01-01T00:00:00",
          "1933-01-01T00:00:00",
          "1934-01-01T00:00:00",
          "1935-01-01T00:00:00",
          "1936-01-01T00:00:00",
          "1937-01-01T00:00:00",
          "1938-01-01T00:00:00",
          "1939-01-01T00:00:00",
          "1940-01-01T00:00:00",
          "1941-01-01T00:00:00",
          "1942-01-01T00:00:00",
          "1943-01-01T00:00:00",
          "1944-01-01T00:00:00",
          "1945-01-01T00:00:00",
          "1946-01-01T00:00:00",
          "1947-01-01T00:00:00",
          "1948-01-01T00:00:00",
          "1949-01-01T00:00:00",
          "1950-01-01T00:00:00",
          "1951-01-01T00:00:00",
          "1952-01-01T00:00:00",
          "1953-01-01T00:00:00",
          "1954-01-01T00:00:00",
          "1955-01-01T00:00:00",
          "1956-01-01T00:00:00",
          "1957-01-01T00:00:00",
          "1958-01-01T00:00:00",
          "1959-01-01T00:00:00",
          "1960-01-01T00:00:00",
          "1961-01-01T00:00:00",
          "1962-01-01T00:00:00",
          "1963-01-01T00:00:00",
          "1964-01-01T00:00:00",
          "1965-01-01T00:00:00",
          "1966-01-01T00:00:00",
          "1967-01-01T00:00:00",
          "1968-01-01T00:00:00",
          "1969-01-01T00:00:00",
          "1970-01-01T00:00:00",
          "1971-01-01T00:00:00",
          "1972-01-01T00:00:00",
          "1973-01-01T00:00:00",
          "1974-01-01T00:00:00",
          "1975-01-01T00:00:00",
          "1976-01-01T00:00:00",
          "1977-01-01T00:00:00",
          "1978-01-01T00:00:00",
          "1979-01-01T00:00:00",
          "1980-01-01T00:00:00",
          "1981-01-01T00:00:00",
          "1982-01-01T00:00:00",
          "1983-01-01T00:00:00",
          "1984-01-01T00:00:00",
          "1985-01-01T00:00:00",
          "1986-01-01T00:00:00",
          "1987-01-01T00:00:00",
          "1988-01-01T00:00:00",
          "1989-01-01T00:00:00",
          "1990-01-01T00:00:00",
          "1991-01-01T00:00:00",
          "1992-01-01T00:00:00",
          "1993-01-01T00:00:00",
          "1994-01-01T00:00:00",
          "1995-01-01T00:00:00",
          "1996-01-01T00:00:00",
          "1997-01-01T00:00:00",
          "1998-01-01T00:00:00",
          "1999-01-01T00:00:00",
          "2000-01-01T00:00:00",
          "2001-01-01T00:00:00",
          "2002-01-01T00:00:00",
          "2003-01-01T00:00:00",
          "2004-01-01T00:00:00",
          "2005-01-01T00:00:00",
          "2006-01-01T00:00:00",
          "2007-01-01T00:00:00",
          "2008-01-01T00:00:00",
          "2009-01-01T00:00:00",
          "2010-01-01T00:00:00",
          "2011-01-01T00:00:00",
          "2012-01-01T00:00:00",
          "2013-01-01T00:00:00",
          "2014-01-01T00:00:00",
          "2015-01-01T00:00:00",
          "2015-12-31T00:00:00",
          "2016-12-31T00:00:00",
          "2017-12-31T00:00:00",
          "2018-12-31T00:00:00",
          "2019-12-31T00:00:00",
          "2020-12-31T00:00:00",
          "2021-12-31T00:00:00",
          "2022-12-31T00:00:00",
          "2023-12-31T00:00:00",
          "2024-12-31T00:00:00",
          "2025-12-31T00:00:00",
          "2026-12-31T00:00:00",
          "2027-12-31T00:00:00",
          "2028-12-31T00:00:00",
          "2029-12-31T00:00:00",
          "2030-12-31T00:00:00",
          "2031-12-31T00:00:00",
          "2032-12-31T00:00:00",
          "2033-12-31T00:00:00",
          "2034-12-31T00:00:00"
         ],
         "y": [
          1149.8489242395294,
          1148.622378830627,
          1147.3165626873158,
          1145.9354881190602,
          1157.8218118982293,
          1156.5952666550718,
          1155.2894506774583,
          1153.908376275022,
          1165.7946999497942,
          1164.5681544367308,
          1163.2623381893293,
          1161.8812635170318,
          1173.7675865613808,
          1172.5410404196482,
          1171.235223543523,
          1169.8541482425337,
          1181.7404712770524,
          1180.5139251255132,
          1179.2081082395418,
          1177.8197289922405,
          1189.6987280794924,
          1188.4648779914703,
          1187.1517571690504,
          1185.7465239713845,
          1197.608622933078,
          1196.3579188947433,
          1194.9955583821477,
          1193.5579394446588,
          1205.3875639384758,
          1204.1044741602855,
          1202.7286014982287,
          1201.27747041128,
          1213.0935457360622,
          1211.79694380841,
          1209.9849345325688,
          1208.0976668318008,
          1219.4764106479356,
          1217.1148937059916,
          1214.6741060296451,
          1212.1580599284034,
          1222.9063026634997,
          1220.0473773512472,
          1217.1091813045978,
          1214.0957268330565,
          1224.3451984351796,
          1220.9209244469023,
          1217.4173797242192,
          1213.838576576665,
          1222.9890885042487,
          1219.0342061395202,
          1215.0000530403806,
          1210.8906415163722,
          1219.7175551142482,
          1215.4399585682709,
          1211.0830912878723,
          1206.6509655825955,
          1215.2267571749521,
          1210.6987247491372,
          1206.0914215889195,
          1201.3843044565683,
          1209.9354732262086,
          1205.3828852531512,
          1200.7510265456847,
          1196.0439088365597,
          1204.5950770278496,
          1200.0424884780184,
          1195.4106291937796,
          1190.7033313339075,
          1199.2543188808881,
          1194.701550180309,
          1190.0695109391988,
          1185.3622132732023,
          1193.9132010145877,
          1189.3604325078818,
          1184.7283932625305,
          1180.0210955922905,
          1188.572083329421,
          1184.0193145795406,
          1179.3872750952587,
          1174.6799771860885,
          1183.230964683631,
          1178.6781955575875,
          1174.0461556971366,
          1169.3388574117935,
          1177.8898445321454,
          1173.337075919501,
          1168.7050365724679,
          1163.9977388005316,
          1172.5487264506917,
          1167.9959578529972,
          1163.3639185209026,
          1158.6566207639291,
          1167.2076076352273,
          1162.6548382608069,
          1158.022798151981,
          1153.315499618279,
          1161.8664864895704,
          1157.3137171151611,
          1152.6816770063383,
          1147.9743784726106,
          1156.525365343918,
          1151.9725959694995,
          1147.3405558606728,
          1142.6332573269906,
          1151.1842441982585,
          1146.631474823866,
          1141.999434715039,
          1137.2921361813262,
          1145.8431230526314,
          1141.2903536782107,
          1136.6583135693847,
          1131.9510150356784,
          1140.5020019069634,
          1135.9492325325423,
          1131.3171924237522,
          1112.452603674116,
          1121.8314419898811,
          1116.9860286015569,
          1112.0779263684824,
          1107.111482528497,
          1116.4903208442079,
          1111.6449074559177,
          1106.7368052228435,
          1101.7703613828332,
          1111.1491996985962,
          1106.3037863102597,
          1101.3956840771943,
          1096.4292402372057,
          1105.808078552945,
          1100.9626651645794,
          1096.0545629315538,
          1091.0881190915095,
          1100.4669574072598,
          1095.621544018956,
          1090.7134417858385
         ]
        },
        {
         "fill": "tonexty",
         "fillcolor": "rgba(0, 114, 178, 0.2)",
         "hoverinfo": "skip",
         "line": {
          "width": 0
         },
         "mode": "lines",
         "type": "scatter",
         "x": [
          "1901-01-01T00:00:00",
          "1902-01-01T00:00:00",
          "1903-01-01T00:00:00",
          "1904-01-01T00:00:00",
          "1905-01-01T00:00:00",
          "1906-01-01T00:00:00",
          "1907-01-01T00:00:00",
          "1908-01-01T00:00:00",
          "1909-01-01T00:00:00",
          "1910-01-01T00:00:00",
          "1911-01-01T00:00:00",
          "1912-01-01T00:00:00",
          "1913-01-01T00:00:00",
          "1914-01-01T00:00:00",
          "1915-01-01T00:00:00",
          "1916-01-01T00:00:00",
          "1917-01-01T00:00:00",
          "1918-01-01T00:00:00",
          "1919-01-01T00:00:00",
          "1920-01-01T00:00:00",
          "1921-01-01T00:00:00",
          "1922-01-01T00:00:00",
          "1923-01-01T00:00:00",
          "1924-01-01T00:00:00",
          "1925-01-01T00:00:00",
          "1926-01-01T00:00:00",
          "1927-01-01T00:00:00",
          "1928-01-01T00:00:00",
          "1929-01-01T00:00:00",
          "1930-01-01T00:00:00",
          "1931-01-01T00:00:00",
          "1932-01-01T00:00:00",
          "1933-01-01T00:00:00",
          "1934-01-01T00:00:00",
          "1935-01-01T00:00:00",
          "1936-01-01T00:00:00",
          "1937-01-01T00:00:00",
          "1938-01-01T00:00:00",
          "1939-01-01T00:00:00",
          "1940-01-01T00:00:00",
          "1941-01-01T00:00:00",
          "1942-01-01T00:00:00",
          "1943-01-01T00:00:00",
          "1944-01-01T00:00:00",
          "1945-01-01T00:00:00",
          "1946-01-01T00:00:00",
          "1947-01-01T00:00:00",
          "1948-01-01T00:00:00",
          "1949-01-01T00:00:00",
          "1950-01-01T00:00:00",
          "1951-01-01T00:00:00",
          "1952-01-01T00:00:00",
          "1953-01-01T00:00:00",
          "1954-01-01T00:00:00",
          "1955-01-01T00:00:00",
          "1956-01-01T00:00:00",
          "1957-01-01T00:00:00",
          "1958-01-01T00:00:00",
          "1959-01-01T00:00:00",
          "1960-01-01T00:00:00",
          "1961-01-01T00:00:00",
          "1962-01-01T00:00:00",
          "1963-01-01T00:00:00",
          "1964-01-01T00:00:00",
          "1965-01-01T00:00:00",
          "1966-01-01T00:00:00",
          "1967-01-01T00:00:00",
          "1968-01-01T00:00:00",
          "1969-01-01T00:00:00",
          "1970-01-01T00:00:00",
          "1971-01-01T00:00:00",
          "1972-01-01T00:00:00",
          "1973-01-01T00:00:00",
          "1974-01-01T00:00:00",
          "1975-01-01T00:00:00",
          "1976-01-01T00:00:00",
          "1977-01-01T00:00:00",
          "1978-01-01T00:00:00",
          "1979-01-01T00:00:00",
          "1980-01-01T00:00:00",
          "1981-01-01T00:00:00",
          "1982-01-01T00:00:00",
          "1983-01-01T00:00:00",
          "1984-01-01T00:00:00",
          "1985-01-01T00:00:00",
          "1986-01-01T00:00:00",
          "1987-01-01T00:00:00",
          "1988-01-01T00:00:00",
          "1989-01-01T00:00:00",
          "1990-01-01T00:00:00",
          "1991-01-01T00:00:00",
          "1992-01-01T00:00:00",
          "1993-01-01T00:00:00",
          "1994-01-01T00:00:00",
          "1995-01-01T00:00:00",
          "1996-01-01T00:00:00",
          "1997-01-01T00:00:00",
          "1998-01-01T00:00:00",
          "1999-01-01T00:00:00",
          "2000-01-01T00:00:00",
          "2001-01-01T00:00:00",
          "2002-01-01T00:00:00",
          "2003-01-01T00:00:00",
          "2004-01-01T00:00:00",
          "2005-01-01T00:00:00",
          "2006-01-01T00:00:00",
          "2007-01-01T00:00:00",
          "2008-01-01T00:00:00",
          "2009-01-01T00:00:00",
          "2010-01-01T00:00:00",
          "2011-01-01T00:00:00",
          "2012-01-01T00:00:00",
          "2013-01-01T00:00:00",
          "2014-01-01T00:00:00",
          "2015-01-01T00:00:00",
          "2015-12-31T00:00:00",
          "2016-12-31T00:00:00",
          "2017-12-31T00:00:00",
          "2018-12-31T00:00:00",
          "2019-12-31T00:00:00",
          "2020-12-31T00:00:00",
          "2021-12-31T00:00:00",
          "2022-12-31T00:00:00",
          "2023-12-31T00:00:00",
          "2024-12-31T00:00:00",
          "2025-12-31T00:00:00",
          "2026-12-31T00:00:00",
          "2027-12-31T00:00:00",
          "2028-12-31T00:00:00",
          "2029-12-31T00:00:00",
          "2030-12-31T00:00:00",
          "2031-12-31T00:00:00",
          "2032-12-31T00:00:00",
          "2033-12-31T00:00:00",
          "2034-12-31T00:00:00"
         ],
         "y": [
          1269.6400387770527,
          1277.038031198249,
          1269.438861694839,
          1272.7495055154077,
          1290.2861208993452,
          1282.7231927189098,
          1294.8284428659363,
          1285.268342086324,
          1298.1712844791389,
          1301.8448409707996,
          1303.9658709661699,
          1296.1650188118022,
          1302.023438972349,
          1306.630682940102,
          1300.9547704719162,
          1290.804670378774,
          1311.5368421465503,
          1315.547146515329,
          1303.304835305105,
          1299.887671737619,
          1322.7500551898133,
          1321.4690175332883,
          1312.1202013212846,
          1326.3468313055314,
          1331.590391498887,
          1325.8002870344758,
          1324.6496612784617,
          1311.4486542794625,
          1333.8220142072876,
          1329.1040299641468,
          1337.9052383124408,
          1331.047110315615,
          1340.2780519554456,
          1351.2514784122206,
          1339.0944893976666,
          1348.7797598543762,
          1346.1343290530133,
          1357.5768918822512,
          1351.76941038726,
          1343.9390109951821,
          1345.8669804922017,
          1342.3294013267846,
          1343.4021919819852,
          1338.7247136020335,
          1357.868321307456,
          1355.7032107405641,
          1354.1547194894715,
          1341.6634754945665,
          1356.3094462393926,
          1352.3974477176275,
          1341.9026852221107,
          1341.127879900864,
          1348.2567644317787,
          1346.2130766520554,
          1334.4065066293613,
          1344.198164102662,
          1344.4030102174136,
          1338.3353195074994,
          1331.1104628469493,
          1336.9356730276504,
          1342.8919206630444,
          1350.1425130204175,
          1341.3773921789173,
          1320.8852866600876,
          1328.607407946592,
          1329.1649152825426,
          1326.3799614906252,
          1319.667465134364,
          1337.693440058335,
          1329.261276872632,
          1321.4802910232736,
          1306.106324411303,
          1319.1762000894869,
          1326.5664547559213,
          1314.4490668003928,
          1314.712638551661,
          1323.183765478142,
          1308.5576299609388,
          1304.3831235035916,
          1301.3923816465576,
          1309.3526036397325,
          1309.8879653677375,
          1303.7875326197245,
          1295.9446275293399,
          1308.850114380447,
          1306.87638761569,
          1313.8916517386594,
          1301.7272064856913,
          1309.2979573511354,
          1303.9913196362047,
          1290.0861329797997,
          1283.8894889155238,
          1294.7292796983752,
          1294.216176786019,
          1298.313620292205,
          1286.3084037372182,
          1288.4829634128052,
          1286.8749902792827,
          1293.3619290051522,
          1285.9459555383444,
          1281.627040989847,
          1292.1941179721878,
          1275.9920135533876,
          1276.9018391083089,
          1277.948657248967,
          1277.6501176096488,
          1259.388749976466,
          1266.0120504363674,
          1287.836931184625,
          1273.4875048129463,
          1271.2538621609192,
          1262.6134770867493,
          1274.0482574479317,
          1272.1088377765025,
          1261.1219888414012,
          1239.4458879456747,
          1245.5857417933694,
          1252.2067133665,
          1244.4349981352227,
          1240.970448941423,
          1246.1251770885447,
          1248.7824998008223,
          1238.7362544934085,
          1224.8388376534922,
          1239.8608161772509,
          1246.848710340026,
          1221.1050572668846,
          1225.2198463240331,
          1241.753220633997,
          1226.8755562741883,
          1229.463462511194,
          1217.8960280524427,
          1227.6904407849138,
          1233.069006129082,
          1222.9248605577561
         ]
        }
       ],
       "layout": {
        "annotations": [
         {
          "align": "center",
          "font": {
           "color": "gray",
           "size": 14
          },
          "showarrow": false,
          "text": "<b>Forecasting Model Insights:</b><br>The model suggests a <b>slight declining trend</b> in annual rainfall over the long term.<br>The <b>shaded region</b> represents confidence intervals, indicating potential variability.<br>Fluctuations in rainfall continue, but the <b>general trend</b> suggests a gradual reduction.<br>These projections hint at potential <b>long-term shifts</b> in precipitation patterns.",
          "x": 0.5,
          "xref": "paper",
          "y": -0.8,
          "yref": "paper"
         }
        ],
        "height": 600,
        "margin": {
         "b": 150,
         "l": 80,
         "r": 50,
         "t": 100
        },
        "showlegend": false,
        "template": {
         "data": {
          "bar": [
           {
            "error_x": {
             "color": "#2a3f5f"
            },
            "error_y": {
             "color": "#2a3f5f"
            },
            "marker": {
             "line": {
              "color": "white",
              "width": 0.5
             },
             "pattern": {
              "fillmode": "overlay",
              "size": 10,
              "solidity": 0.2
             }
            },
            "type": "bar"
           }
          ],
          "barpolar": [
           {
            "marker": {
             "line": {
              "color": "white",
              "width": 0.5
             },
             "pattern": {
              "fillmode": "overlay",
              "size": 10,
              "solidity": 0.2
             }
            },
            "type": "barpolar"
           }
          ],
          "carpet": [
           {
            "aaxis": {
             "endlinecolor": "#2a3f5f",
             "gridcolor": "#C8D4E3",
             "linecolor": "#C8D4E3",
             "minorgridcolor": "#C8D4E3",
             "startlinecolor": "#2a3f5f"
            },
            "baxis": {
             "endlinecolor": "#2a3f5f",
             "gridcolor": "#C8D4E3",
             "linecolor": "#C8D4E3",
             "minorgridcolor": "#C8D4E3",
             "startlinecolor": "#2a3f5f"
            },
            "type": "carpet"
           }
          ],
          "choropleth": [
           {
            "colorbar": {
             "outlinewidth": 0,
             "ticks": ""
            },
            "type": "choropleth"
           }
          ],
          "contour": [
           {
            "colorbar": {
             "outlinewidth": 0,
             "ticks": ""
            },
            "colorscale": [
             [
              0,
              "#0d0887"
             ],
             [
              0.1111111111111111,
              "#46039f"
             ],
             [
              0.2222222222222222,
              "#7201a8"
             ],
             [
              0.3333333333333333,
              "#9c179e"
             ],
             [
              0.4444444444444444,
              "#bd3786"
             ],
             [
              0.5555555555555556,
              "#d8576b"
             ],
             [
              0.6666666666666666,
              "#ed7953"
             ],
             [
              0.7777777777777778,
              "#fb9f3a"
             ],
             [
              0.8888888888888888,
              "#fdca26"
             ],
             [
              1,
              "#f0f921"
             ]
            ],
            "type": "contour"
           }
          ],
          "contourcarpet": [
           {
            "colorbar": {
             "outlinewidth": 0,
             "ticks": ""
            },
            "type": "contourcarpet"
           }
          ],
          "heatmap": [
           {
            "colorbar": {
             "outlinewidth": 0,
             "ticks": ""
            },
            "colorscale": [
             [
              0,
              "#0d0887"
             ],
             [
              0.1111111111111111,
              "#46039f"
             ],
             [
              0.2222222222222222,
              "#7201a8"
             ],
             [
              0.3333333333333333,
              "#9c179e"
             ],
             [
              0.4444444444444444,
              "#bd3786"
             ],
             [
              0.5555555555555556,
              "#d8576b"
             ],
             [
              0.6666666666666666,
              "#ed7953"
             ],
             [
              0.7777777777777778,
              "#fb9f3a"
             ],
             [
              0.8888888888888888,
              "#fdca26"
             ],
             [
              1,
              "#f0f921"
             ]
            ],
            "type": "heatmap"
           }
          ],
          "heatmapgl": [
           {
            "colorbar": {
             "outlinewidth": 0,
             "ticks": ""
            },
            "colorscale": [
             [
              0,
              "#0d0887"
             ],
             [
              0.1111111111111111,
              "#46039f"
             ],
             [
              0.2222222222222222,
              "#7201a8"
             ],
             [
              0.3333333333333333,
              "#9c179e"
             ],
             [
              0.4444444444444444,
              "#bd3786"
             ],
             [
              0.5555555555555556,
              "#d8576b"
             ],
             [
              0.6666666666666666,
              "#ed7953"
             ],
             [
              0.7777777777777778,
              "#fb9f3a"
             ],
             [
              0.8888888888888888,
              "#fdca26"
             ],
             [
              1,
              "#f0f921"
             ]
            ],
            "type": "heatmapgl"
           }
          ],
          "histogram": [
           {
            "marker": {
             "pattern": {
              "fillmode": "overlay",
              "size": 10,
              "solidity": 0.2
             }
            },
            "type": "histogram"
           }
          ],
          "histogram2d": [
           {
            "colorbar": {
             "outlinewidth": 0,
             "ticks": ""
            },
            "colorscale": [
             [
              0,
              "#0d0887"
             ],
             [
              0.1111111111111111,
              "#46039f"
             ],
             [
              0.2222222222222222,
              "#7201a8"
             ],
             [
              0.3333333333333333,
              "#9c179e"
             ],
             [
              0.4444444444444444,
              "#bd3786"
             ],
             [
              0.5555555555555556,
              "#d8576b"
             ],
             [
              0.6666666666666666,
              "#ed7953"
             ],
             [
              0.7777777777777778,
              "#fb9f3a"
             ],
             [
              0.8888888888888888,
              "#fdca26"
             ],
             [
              1,
              "#f0f921"
             ]
            ],
            "type": "histogram2d"
           }
          ],
          "histogram2dcontour": [
           {
            "colorbar": {
             "outlinewidth": 0,
             "ticks": ""
            },
            "colorscale": [
             [
              0,
              "#0d0887"
             ],
             [
              0.1111111111111111,
              "#46039f"
             ],
             [
              0.2222222222222222,
              "#7201a8"
             ],
             [
              0.3333333333333333,
              "#9c179e"
             ],
             [
              0.4444444444444444,
              "#bd3786"
             ],
             [
              0.5555555555555556,
              "#d8576b"
             ],
             [
              0.6666666666666666,
              "#ed7953"
             ],
             [
              0.7777777777777778,
              "#fb9f3a"
             ],
             [
              0.8888888888888888,
              "#fdca26"
             ],
             [
              1,
              "#f0f921"
             ]
            ],
            "type": "histogram2dcontour"
           }
          ],
          "mesh3d": [
           {
            "colorbar": {
             "outlinewidth": 0,
             "ticks": ""
            },
            "type": "mesh3d"
           }
          ],
          "parcoords": [
           {
            "line": {
             "colorbar": {
              "outlinewidth": 0,
              "ticks": ""
             }
            },
            "type": "parcoords"
           }
          ],
          "pie": [
           {
            "automargin": true,
            "type": "pie"
           }
          ],
          "scatter": [
           {
            "fillpattern": {
             "fillmode": "overlay",
             "size": 10,
             "solidity": 0.2
            },
            "type": "scatter"
           }
          ],
          "scatter3d": [
           {
            "line": {
             "colorbar": {
              "outlinewidth": 0,
              "ticks": ""
             }
            },
            "marker": {
             "colorbar": {
              "outlinewidth": 0,
              "ticks": ""
             }
            },
            "type": "scatter3d"
           }
          ],
          "scattercarpet": [
           {
            "marker": {
             "colorbar": {
              "outlinewidth": 0,
              "ticks": ""
             }
            },
            "type": "scattercarpet"
           }
          ],
          "scattergeo": [
           {
            "marker": {
             "colorbar": {
              "outlinewidth": 0,
              "ticks": ""
             }
            },
            "type": "scattergeo"
           }
          ],
          "scattergl": [
           {
            "marker": {
             "colorbar": {
              "outlinewidth": 0,
              "ticks": ""
             }
            },
            "type": "scattergl"
           }
          ],
          "scattermapbox": [
           {
            "marker": {
             "colorbar": {
              "outlinewidth": 0,
              "ticks": ""
             }
            },
            "type": "scattermapbox"
           }
          ],
          "scatterpolar": [
           {
            "marker": {
             "colorbar": {
              "outlinewidth": 0,
              "ticks": ""
             }
            },
            "type": "scatterpolar"
           }
          ],
          "scatterpolargl": [
           {
            "marker": {
             "colorbar": {
              "outlinewidth": 0,
              "ticks": ""
             }
            },
            "type": "scatterpolargl"
           }
          ],
          "scatterternary": [
           {
            "marker": {
             "colorbar": {
              "outlinewidth": 0,
              "ticks": ""
             }
            },
            "type": "scatterternary"
           }
          ],
          "surface": [
           {
            "colorbar": {
             "outlinewidth": 0,
             "ticks": ""
            },
            "colorscale": [
             [
              0,
              "#0d0887"
             ],
             [
              0.1111111111111111,
              "#46039f"
             ],
             [
              0.2222222222222222,
              "#7201a8"
             ],
             [
              0.3333333333333333,
              "#9c179e"
             ],
             [
              0.4444444444444444,
              "#bd3786"
             ],
             [
              0.5555555555555556,
              "#d8576b"
             ],
             [
              0.6666666666666666,
              "#ed7953"
             ],
             [
              0.7777777777777778,
              "#fb9f3a"
             ],
             [
              0.8888888888888888,
              "#fdca26"
             ],
             [
              1,
              "#f0f921"
             ]
            ],
            "type": "surface"
           }
          ],
          "table": [
           {
            "cells": {
             "fill": {
              "color": "#EBF0F8"
             },
             "line": {
              "color": "white"
             }
            },
            "header": {
             "fill": {
              "color": "#C8D4E3"
             },
             "line": {
              "color": "white"
             }
            },
            "type": "table"
           }
          ]
         },
         "layout": {
          "annotationdefaults": {
           "arrowcolor": "#2a3f5f",
           "arrowhead": 0,
           "arrowwidth": 1
          },
          "autotypenumbers": "strict",
          "coloraxis": {
           "colorbar": {
            "outlinewidth": 0,
            "ticks": ""
           }
          },
          "colorscale": {
           "diverging": [
            [
             0,
             "#8e0152"
            ],
            [
             0.1,
             "#c51b7d"
            ],
            [
             0.2,
             "#de77ae"
            ],
            [
             0.3,
             "#f1b6da"
            ],
            [
             0.4,
             "#fde0ef"
            ],
            [
             0.5,
             "#f7f7f7"
            ],
            [
             0.6,
             "#e6f5d0"
            ],
            [
             0.7,
             "#b8e186"
            ],
            [
             0.8,
             "#7fbc41"
            ],
            [
             0.9,
             "#4d9221"
            ],
            [
             1,
             "#276419"
            ]
           ],
           "sequential": [
            [
             0,
             "#0d0887"
            ],
            [
             0.1111111111111111,
             "#46039f"
            ],
            [
             0.2222222222222222,
             "#7201a8"
            ],
            [
             0.3333333333333333,
             "#9c179e"
            ],
            [
             0.4444444444444444,
             "#bd3786"
            ],
            [
             0.5555555555555556,
             "#d8576b"
            ],
            [
             0.6666666666666666,
             "#ed7953"
            ],
            [
             0.7777777777777778,
             "#fb9f3a"
            ],
            [
             0.8888888888888888,
             "#fdca26"
            ],
            [
             1,
             "#f0f921"
            ]
           ],
           "sequentialminus": [
            [
             0,
             "#0d0887"
            ],
            [
             0.1111111111111111,
             "#46039f"
            ],
            [
             0.2222222222222222,
             "#7201a8"
            ],
            [
             0.3333333333333333,
             "#9c179e"
            ],
            [
             0.4444444444444444,
             "#bd3786"
            ],
            [
             0.5555555555555556,
             "#d8576b"
            ],
            [
             0.6666666666666666,
             "#ed7953"
            ],
            [
             0.7777777777777778,
             "#fb9f3a"
            ],
            [
             0.8888888888888888,
             "#fdca26"
            ],
            [
             1,
             "#f0f921"
            ]
           ]
          },
          "colorway": [
           "#636efa",
           "#EF553B",
           "#00cc96",
           "#ab63fa",
           "#FFA15A",
           "#19d3f3",
           "#FF6692",
           "#B6E880",
           "#FF97FF",
           "#FECB52"
          ],
          "font": {
           "color": "#2a3f5f"
          },
          "geo": {
           "bgcolor": "white",
           "lakecolor": "white",
           "landcolor": "white",
           "showlakes": true,
           "showland": true,
           "subunitcolor": "#C8D4E3"
          },
          "hoverlabel": {
           "align": "left"
          },
          "hovermode": "closest",
          "mapbox": {
           "style": "light"
          },
          "paper_bgcolor": "white",
          "plot_bgcolor": "white",
          "polar": {
           "angularaxis": {
            "gridcolor": "#EBF0F8",
            "linecolor": "#EBF0F8",
            "ticks": ""
           },
           "bgcolor": "white",
           "radialaxis": {
            "gridcolor": "#EBF0F8",
            "linecolor": "#EBF0F8",
            "ticks": ""
           }
          },
          "scene": {
           "xaxis": {
            "backgroundcolor": "white",
            "gridcolor": "#DFE8F3",
            "gridwidth": 2,
            "linecolor": "#EBF0F8",
            "showbackground": true,
            "ticks": "",
            "zerolinecolor": "#EBF0F8"
           },
           "yaxis": {
            "backgroundcolor": "white",
            "gridcolor": "#DFE8F3",
            "gridwidth": 2,
            "linecolor": "#EBF0F8",
            "showbackground": true,
            "ticks": "",
            "zerolinecolor": "#EBF0F8"
           },
           "zaxis": {
            "backgroundcolor": "white",
            "gridcolor": "#DFE8F3",
            "gridwidth": 2,
            "linecolor": "#EBF0F8",
            "showbackground": true,
            "ticks": "",
            "zerolinecolor": "#EBF0F8"
           }
          },
          "shapedefaults": {
           "line": {
            "color": "#2a3f5f"
           }
          },
          "ternary": {
           "aaxis": {
            "gridcolor": "#DFE8F3",
            "linecolor": "#A2B1C6",
            "ticks": ""
           },
           "baxis": {
            "gridcolor": "#DFE8F3",
            "linecolor": "#A2B1C6",
            "ticks": ""
           },
           "bgcolor": "white",
           "caxis": {
            "gridcolor": "#DFE8F3",
            "linecolor": "#A2B1C6",
            "ticks": ""
           }
          },
          "title": {
           "x": 0.05
          },
          "xaxis": {
           "automargin": true,
           "gridcolor": "#EBF0F8",
           "linecolor": "#EBF0F8",
           "ticks": "",
           "title": {
            "standoff": 15
           },
           "zerolinecolor": "#EBF0F8",
           "zerolinewidth": 2
          },
          "yaxis": {
           "automargin": true,
           "gridcolor": "#EBF0F8",
           "linecolor": "#EBF0F8",
           "ticks": "",
           "title": {
            "standoff": 15
           },
           "zerolinecolor": "#EBF0F8",
           "zerolinewidth": 2
          }
         }
        },
        "title": {
         "text": "<b>Annual Rainfall Forecast Using Prophet</b>"
        },
        "width": 900,
        "xaxis": {
         "rangeselector": {
          "buttons": [
           {
            "count": 7,
            "label": "1w",
            "step": "day",
            "stepmode": "backward"
           },
           {
            "count": 1,
            "label": "1m",
            "step": "month",
            "stepmode": "backward"
           },
           {
            "count": 6,
            "label": "6m",
            "step": "month",
            "stepmode": "backward"
           },
           {
            "count": 1,
            "label": "1y",
            "step": "year",
            "stepmode": "backward"
           },
           {
            "step": "all"
           }
          ]
         },
         "rangeslider": {
          "visible": true
         },
         "title": {
          "text": "Year"
         },
         "type": "date"
        },
        "yaxis": {
         "title": {
          "text": "Rainfall (mm)"
         }
        }
       }
      }
     },
     "metadata": {},
     "output_type": "display_data"
    }
   ],
   "source": [
    "from prophet import Prophet\n",
    "from prophet.plot import plot_plotly\n",
    "\n",
    "# Convert YEAR to datetime for time series modeling\n",
    "df['DATE'] = pd.to_datetime(df['YEAR'], format='%Y')\n",
    "annual_rainfall_ts = df.set_index('DATE')['ANNUAL']\n",
    "\n",
    "# Prepare the data for Prophet\n",
    "prophet_data = annual_rainfall_ts.reset_index()\n",
    "prophet_data.columns = ['ds', 'y']\n",
    "\n",
    "# Train Prophet model\n",
    "prophet_model = Prophet()\n",
    "prophet_model.fit(prophet_data)\n",
    "\n",
    "# Create a future dataframe for the next 20 years\n",
    "future = prophet_model.make_future_dataframe(periods=20, freq='Y')\n",
    "forecast = prophet_model.predict(future)\n",
    "\n",
    "# Generate forecast plot\n",
    "fig_forecast = plot_plotly(prophet_model, forecast)\n",
    "\n",
    "# Update layout for better readability\n",
    "fig_forecast.update_layout(\n",
    "    title='<b>Annual Rainfall Forecast Using Prophet</b>',\n",
    "    xaxis_title='Year',\n",
    "    yaxis_title='Rainfall (mm)',\n",
    "    template='plotly_white',\n",
    "    height=600,  \n",
    "    width=900,   \n",
    "    margin=dict(l=80, r=50, t=100, b=150) \n",
    ")\n",
    "\n",
    "# Add subtitle\n",
    "fig_forecast.add_annotation(\n",
    "    text=\"<b>Forecasting Model Insights:</b><br>\"\n",
    "         \"The model suggests a <b>slight declining trend</b> in annual rainfall over the long term.<br>\"\n",
    "         \"The <b>shaded region</b> represents confidence intervals, indicating potential variability.<br>\"\n",
    "         \"Fluctuations in rainfall continue, but the <b>general trend</b> suggests a gradual reduction.<br>\"\n",
    "         \"These projections hint at potential <b>long-term shifts</b> in precipitation patterns.\",\n",
    "    showarrow=False,\n",
    "    xref=\"paper\",\n",
    "    yref=\"paper\",\n",
    "    x=0.5,\n",
    "    y=-0.80,  # Adjusted to prevent clipping\n",
    "    font=dict(size=14, color=\"gray\"),\n",
    "    align=\"center\"\n",
    ")\n",
    "\n",
    "# Show plot\n",
    "fig_forecast.show()\n"
   ]
  },
  {
   "cell_type": "code",
   "execution_count": null,
   "metadata": {},
   "outputs": [],
   "source": []
  }
 ],
 "metadata": {
  "kernelspec": {
   "display_name": "base",
   "language": "python",
   "name": "python3"
  },
  "language_info": {
   "codemirror_mode": {
    "name": "ipython",
    "version": 3
   },
   "file_extension": ".py",
   "mimetype": "text/x-python",
   "name": "python",
   "nbconvert_exporter": "python",
   "pygments_lexer": "ipython3",
   "version": "3.11.5"
  }
 },
 "nbformat": 4,
 "nbformat_minor": 2
}
